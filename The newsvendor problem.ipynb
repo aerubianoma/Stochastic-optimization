{
 "cells": [
  {
   "cell_type": "markdown",
   "metadata": {},
   "source": [
    "\n",
    "\n",
    "# 1 The newsvendor problem (integer formulation)\n",
    "\n",
    "Each morning, the newsvendor must decide how many copies $u \\in \\{1, 2,…,u^{♯}\\}$ of the day’s paper to order. The variable u is called control.\n",
    "\n",
    "During the day, the newsvendor will meet an unknown demand $w  \\in \\{1,2,...,w^{♯}\\}$ . The variable w is called uncertainty.\n",
    "\n",
    "The newsvendor faces an economic tradeoﬀ:\n",
    "\n",
    "- He pays the unitary purchasing cost c per copy, when he orders stock;\n",
    "\n",
    "- He sells a copy at price p;\n",
    "\n",
    "- if he remains with an unsold copy, it is worthless (perishable good).\n",
    "\n",
    "Therefore, the newsvendor’s costs are (where w is a possible value of the demand)\n",
    "\n",
    "$$j(u,w) = cu-p\\min\\{u,w\\}$$\n",
    "\n",
    "The newsvendor’s payoﬀ is $−j(u,w)$.\n",
    "\n",
    "Now, we introduce a random variable W, where $W : Ω →\\{1, 2,…,w^{♯}\\}$. Here, $Ω$ is an underlying probability space, equipped with a probability $ℙ$. We suppose that the newsvendor knows the probability distribution $\\mathbb{P}_{W}$ of the demand $W$.\n",
    "\n",
    "Thus equipped, we consider the stochastic optimization problem of expected costs minimization:\n",
    "\n",
    "$$\\min_{w  \\in \\{1,2,...,w^{♯}\\}} J(u) = \\mathbb{E}_{\\mathbb{P}}[j(u,W)]$$\n"
   ]
  },
  {
   "cell_type": "code",
   "execution_count": 110,
   "metadata": {},
   "outputs": [
    {
     "name": "stdout",
     "output_type": "stream",
     "text": [
      "[[  -9.   -9.   -9. ...   -9.   -9.   -9.]\n",
      " [  -8.  -18.  -18. ...  -18.  -18.  -18.]\n",
      " [  -7.  -17.  -27. ...  -27.  -27.  -27.]\n",
      " ...\n",
      " [  89.   79.   69. ... -881. -891. -891.]\n",
      " [  90.   80.   70. ... -880. -890. -900.]\n",
      " [  91.   81.   71. ... -879. -889. -899.]]\n"
     ]
    }
   ],
   "source": [
    "import numpy as np\n",
    "\n",
    "# Demand\n",
    "\n",
    "wsharp = 100;  # No larger, else the Poisson distribution cannot be computed\n",
    "wflat = 1;\n",
    "demand = np.zeros((1,wsharp));\n",
    "for i in range(wsharp):\n",
    "    demand[0][i] = i+1;\n",
    "\n",
    "# Control\n",
    "\n",
    "control = np.zeros((1,wsharp+1));\n",
    "for i in range(wsharp+1):\n",
    "    control[0][i] = i+1;\n",
    "\n",
    "# Criterion / costs \n",
    "\n",
    "cc = 1;\n",
    "pp = 10*cc;\n",
    "\n",
    "# cc=1; \n",
    "# pp=1.1*cc; \n",
    "\n",
    "# avoid that cc/pp is the inverse of an integer when the distribution of demand is uniform\n",
    "\n",
    "ones_demand = np.zeros((1,wsharp));\n",
    "for i in range(wsharp):\n",
    "    ones_demand[0][i] = 1;\n",
    "    \n",
    "ones_control = np.zeros((1,wsharp+1));\n",
    "for i in range(wsharp+1):\n",
    "    ones_control[0][i] = 1;\n",
    "    \n",
    "costs = np.matmul(cc*np.transpose(control),ones) - pp*np.minimum(np.matmul(np.transpose(ones_control),demand),np.matmul(np.transpose(control),ones_demand));\n",
    "\n",
    "# One row by control, one column by demand\n"
   ]
  },
  {
   "cell_type": "markdown",
   "metadata": {},
   "source": [
    "We will consider diﬀerent demand distributions.\n",
    "\n",
    "# 1.1 The demand distribution is uniform\n",
    "\n",
    "First, we suppose that the demand distribution ℙW is uniform as follows."
   ]
  },
  {
   "cell_type": "code",
   "execution_count": 112,
   "metadata": {},
   "outputs": [
    {
     "name": "stdout",
     "output_type": "stream",
     "text": [
      "[[0.01 0.01 0.01 0.01 0.01 0.01 0.01 0.01 0.01 0.01 0.01 0.01 0.01 0.01\n",
      "  0.01 0.01 0.01 0.01 0.01 0.01 0.01 0.01 0.01 0.01 0.01 0.01 0.01 0.01\n",
      "  0.01 0.01 0.01 0.01 0.01 0.01 0.01 0.01 0.01 0.01 0.01 0.01 0.01 0.01\n",
      "  0.01 0.01 0.01 0.01 0.01 0.01 0.01 0.01 0.01 0.01 0.01 0.01 0.01 0.01\n",
      "  0.01 0.01 0.01 0.01 0.01 0.01 0.01 0.01 0.01 0.01 0.01 0.01 0.01 0.01\n",
      "  0.01 0.01 0.01 0.01 0.01 0.01 0.01 0.01 0.01 0.01 0.01 0.01 0.01 0.01\n",
      "  0.01 0.01 0.01 0.01 0.01 0.01 0.01 0.01 0.01 0.01 0.01 0.01 0.01 0.01\n",
      "  0.01 0.01]]\n"
     ]
    }
   ],
   "source": [
    "probab = ones_demand;\n",
    "probab = probab/np.sum(probab);\n",
    "print(probab)"
   ]
  }
 ],
 "metadata": {
  "kernelspec": {
   "display_name": "Python 3",
   "language": "python",
   "name": "python3"
  },
  "language_info": {
   "codemirror_mode": {
    "name": "ipython",
    "version": 3
   },
   "file_extension": ".py",
   "mimetype": "text/x-python",
   "name": "python",
   "nbconvert_exporter": "python",
   "pygments_lexer": "ipython3",
   "version": "3.8.5"
  }
 },
 "nbformat": 4,
 "nbformat_minor": 4
}
