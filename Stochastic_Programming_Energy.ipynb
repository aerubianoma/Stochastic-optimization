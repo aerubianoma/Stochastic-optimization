{
  "nbformat": 4,
  "nbformat_minor": 0,
  "metadata": {
    "colab": {
      "name": "Stochastic_Programming_Energy.ipynb",
      "provenance": [],
      "collapsed_sections": []
    },
    "kernelspec": {
      "name": "python3",
      "display_name": "Python 3"
    },
    "language_info": {
      "name": "python"
    }
  },
  "cells": [
    {
      "cell_type": "markdown",
      "source": [
        "This project is a Python adaptation of\n",
        "[Michel de Lara Scilab code](https://cermics.enpc.fr/scilab_new/site/Tp/Optimisation_dynamique/stochastic_programming_energy/index.html) and have academic purposes.\n",
        "\n",
        "Authors: Andres Rubiano, Jhoan Tenjo, Juan Galvis."
      ],
      "metadata": {
        "id": "EDmu2tdNI61P"
      }
    },
    {
      "cell_type": "markdown",
      "source": [
        "#1. Two Stage Stochastic Optimization for Fixing Energy Reserves\n",
        "\n",
        "\n",
        "We formalize the problem of ﬁxing energy reserves in a day-ahead market as a two stage stochastic optimization problem. A decision has to be made at night of day $J —$ which quantity of the cheapest energy production units (reserve) to be mobilized — to meet a demand that will materialize at morning of day $J + 1$. Excess reserves are penalized; demand unsatisﬁed by reserves have to be covered by costly extra units. Hence, there is a trade-oﬀ to be assessed by optimization. \n",
        "\n",
        "Note that the two states correspond to the instants of time in which the decision is made.\n",
        "\n",
        "## 1.1 Stages\n",
        "\n",
        "There are two stages, represented by the letter $t$ (for time):\n",
        "\n",
        "- t = 0 corresponds to night of day $J$;\n",
        "- t = 1 corresponds to morning of day $J + 1$.\n"
      ],
      "metadata": {
        "id": "8vcVYeKMJY_4"
      }
    },
    {
      "cell_type": "markdown",
      "source": [
        "## 1.2 Probabilistic Model \n",
        "\n",
        "We suppose that the demand, materialized on the morning of day $J + 1$, can take a ﬁnite number $S$ of possible values $D_{s}$, where s denotes a scenario in the ﬁnite set 𝕊 (S=card(𝕊)).\n",
        "\n",
        "We denote πs the probability of scenario $s$, with\n",
        "\n",
        "$$ \\forall s \\in \\mathbb{S}, \\hspace{0.6cm} \\pi_{s} > 0, \\sum_{s \\in \\mathbb{S}}\\pi_{s} = 1 \\hspace{1cm} (1)  $$\n",
        "\n",
        "Notice that we do not consider scenarios with zero probability\n",
        "\n",
        "$$Q_{0} + Q_{1,s} = D_{s}, \\hspace{0,4cm} \\forall s \\in \\mathbb{S}.$$\n",
        "\n",
        "The energies mobilized at stages $t = 0$ and $t = 1$ display different features:\n",
        "\n",
        "- at stage $t= 0$, the energy production has maximal capacity $Q_{0}^{\\#}$ and \n",
        "\n"
      ],
      "metadata": {
        "id": "-yvf80PEMwOv"
      }
    },
    {
      "cell_type": "markdown",
      "source": [
        "## 1.3 Decision variables\n",
        "\n",
        "The decision variables are the scalar $Q_{0}$ and the ﬁnite sequence $(Q_{1},s)_{s\\in \\mathbb{S}}$ s∈𝕊 of scalars, as follows:\n",
        "- at stage $t = 0 $, the energy reserve is $Q_{0}$\n",
        "- at stage $t = 1 $, a scenario $s$ materializes and the demanda $D_{s}$ is observed, so that one decides of the recourse quantity $Q_{1,s}.\n",
        "\n",
        "The decision variables can be considered as indexed by a *tree* with one root (corresponding\n",
        "to the index $0$) and as many leafs as scenarios in $\\mathbb{S}$ (each leaf corresponding to the index $1, s$):\n",
        "$Q_{0}$ is attached to the root of the tree, and each $Q_{1,s}$ is attached to a leaf corresponding to $s$.\n"
      ],
      "metadata": {
        "id": "FKS_bA9IN6rH"
      }
    },
    {
      "cell_type": "markdown",
      "source": [
        "## 1.4 Optimization problem formulation\n",
        "The balance equation between supply and demand is\n",
        "\n",
        "$$ Q_{0} + Q_{1,s} = D_{s}, \\hspace{0.3 cm} \\forall s \\in \\mathbb{S}. \\hspace{1cm} (2) $$\n",
        "\n",
        "The energies mobilized at stages $t = 0$ and $t = 1$ display different features:\n",
        "- at stage $t = 0$, the energy production has maximal capacity $Q$, and producing $Q_{0}$ costs $C_{0}(Q_{0})$;\n",
        "\n",
        "- at stage $t = 0$, the energy production has maximal capacity Q_{0}^{#}, and producing $Q_{0}$ costs $\\mathcal{C}_{1}(Q_{1}).$\n",
        "\n",
        "We consider the stochastic optimization problem\n",
        " $$ \\min_{Q_{0}, Q_{1,s}, s ∈ \\mathbb{S}} \\sum_{s\\in \\mathbb{S}} \\pi_{s} [\\mathcal{C}_{0}(Q_{0})+\\mathcal{C}_{1}(Q_{1,s})]. \\hspace{0.6 cm} (3a)  $$\n",
        "\n",
        " $$ s.t \\hspace{0.5 cm} 0 \\leq Q_{0} \\leq Q_{0}^{\\#}   \\hspace{3.5 cm} (3b) \\\\ \\hspace{2.5 cm} 0 \\leq Q_{1,s} \\hspace{0.8 cm} \\forall s \\in \\mathbb{S} \\hspace{1.1 cm} (3c)  \\\\ D_{s} = Q_{0} + Q_{1,s} \\hspace{1.7cm} \\forall s \\in \\mathbb{S}  \\hspace{1.1 cm} (3d) $$\n",
        "\n",
        "Here, we look for energy reserve $Q_0$ and recourse energy $Q_{1,s}$ so that the balance equation **(3d)** is satisﬁed (at stage $t = 1$) at minimum expected cost in **(3a)**. By weighing each scenario s with its probability $π_s$, the optimal solution $(Q^{*}_{0},(Q_{1,s}^{*})_{s \\in \\mathbb{S}})$ performs a compromise between scenarios.\n"
      ],
      "metadata": {
        "id": "FlrMWRpLO4gO"
      }
    },
    {
      "cell_type": "markdown",
      "source": [
        "## 2. Formulation on a tree with linear costs\n",
        "\n",
        "Here, we suppose that the costs are linear:\n",
        "\n",
        "$$ C_{0}(Q_{0}) = l_{0}Q_{0}, \\hspace{0.8cm} C_{1}(Q_{1}) = l_{1}Q_{1} \\hspace{0.8cm} (4)  $$\n",
        "\n",
        "Therefore, the stochastic optimization problem **(3)** now becomes\n",
        "\n",
        " $$ \\min_{Q_{0}, Q_{1,s}, s ∈ \\mathbb{S}} \\sum_{s \\in \\mathbb{S}} \\pi_{s} [\\mathcal{l}_{0}(Q_{0})+\\mathcal{l}_{1}(Q_{1,s})]. \\hspace{0.6 cm} (5a)  $$\n",
        "\n",
        " $$ s.t \\hspace{0.5 cm} 0 \\leq Q_{0} \\leq Q_{0}^{\\#}   \\hspace{4.1 cm} (5b) \\\\ \\hspace{2.5 cm} 0 \\leq Q_{1,s} \\hspace{0.8 cm} \\forall s \\in \\mathbb{S} \\hspace{1.8 cm} (5c)  \\\\ D_{s} = Q_{0} + Q_{1,s} \\hspace{1.7cm} \\forall s \\in \\mathbb{S}  \\hspace{1.6 cm} (5d) $$\n",
        "\n",
        " This optimization problem **(5)** is linear. When the number S of scenarios is not too large, we can use linear solvers."
      ],
      "metadata": {
        "id": "m4_CPMLNUD5v"
      }
    },
    {
      "cell_type": "markdown",
      "source": [
        "**Question 1:** We consider the case when $\\mathbb{S} = \\{L,M,H \\}$ has $S = 3$ scenarios (low, medium, high). We want to transform the linear optimization problem **(5)** under a form adapted to a linear solver.\n",
        "\n",
        "a) $[1+1+1]$ Expand the criterion **(5a)**. Expand the inequalities **(5b)–(5c)** into an array of ﬁve scalar equations (one inequality per equation), and the equalities **(5d)** into an array of three scalar equations (one equality per equation).\n",
        "\n",
        "b)\n",
        "$[1+1+1+1+1]$ Let $x$ be the column vector $x = (Q_{0},Q_{1L},Q_{1M},Q_{1H\n",
        "})$. Propose matrices $A_e$, $A_i$ and column vectors $b_e, b_i$ and $c$ such that the linear optimization problem **(5)** can be written under the form\n",
        " $$ \\min_{x \\in \\mathbb{R}^{4}} c'x \\hspace{0.6 cm} (6a)  $$\n",
        "\n",
        " $$ \\hspace{2.5 cm} s.t \\hspace{0.5 cm} A_{e}x = b_{e}   \\hspace{1.1 cm} (6b) \\\\ \\hspace{4.5 cm} A_{i}x \\leq b_{1}  \\hspace{0.5 cm} (6c)   $$"
      ],
      "metadata": {
        "id": "8z2BeplcWn7I"
      }
    },
    {
      "cell_type": "code",
      "execution_count": null,
      "metadata": {
        "id": "5dRX5Ig-IXKd",
        "outputId": "faa7c1da-ac89-4d2a-9310-a7083738a1cd",
        "colab": {
          "base_uri": "https://localhost:8080/"
        }
      },
      "outputs": [
        {
          "output_type": "stream",
          "name": "stdout",
          "text": [
            "Primal Feasibility  Dual Feasibility    Duality Gap         Step             Path Parameter      Objective          \n",
            "1.0                 1.0                 1.0                 -                1.0                 7.0                 \n",
            "0.1403696631065     0.1403696631065     0.1403696631066     0.8701145420868  0.1403696631065     27.56277356398      \n",
            "0.02199130320568    0.02199130320571    0.02199130320571    0.8492971261547  0.02199130320569    69.40884145987      \n",
            "0.00120022440394    0.001200224403934   0.001200224403935   0.96132946942    0.001200224403944   78.88658927939      \n",
            "1.011132096871e-07  1.011132094815e-07  1.011132093609e-07  0.9999317042524  1.011132097001e-07  79.99990860998      \n",
            "5.055557078004e-12  5.055610199461e-12  5.055622587236e-12  0.9999500004672  5.055660518486e-12  79.99999999543      \n",
            "Optimization terminated successfully.\n",
            "         Current function value: 80.000000   \n",
            "         Iterations: 5\n",
            "     con: array([8.10528533e-10, 1.12233067e-09, 2.99290548e-09])\n",
            "     fun: 79.9999999954305\n",
            " message: 'Optimization terminated successfully.'\n",
            "     nit: 5\n",
            "   slack: array([1.50000000e+01, 5.64450846e-11, 5.00000000e+00, 3.50000000e+01,\n",
            "       1.50000000e+01])\n",
            "  status: 0\n",
            " success: True\n",
            "       x: array([1.50000000e+01, 5.64450846e-11, 5.00000000e+00, 3.50000000e+01])\n"
          ]
        },
        {
          "output_type": "stream",
          "name": "stderr",
          "text": [
            "/usr/local/lib/python3.7/dist-packages/numpy/core/fromnumeric.py:86: VisibleDeprecationWarning: Creating an ndarray from ragged nested sequences (which is a list-or-tuple of lists-or-tuples-or ndarrays with different lengths or shapes) is deprecated. If you meant to do this, you must specify 'dtype=object' when creating the ndarray.\n",
            "  return ufunc.reduce(obj, axis, dtype, out, **passkwargs)\n"
          ]
        }
      ],
      "source": [
        "import numpy as np\n",
        "from scipy.sparse import rand\n",
        "from scipy.optimize import lsq_linear\n",
        "from scipy.optimize import linprog\n",
        "\n",
        "# Formulation ona a tree with linear costs. \n",
        "# Numerical resolution by linear programming \n",
        "\n",
        "# Constan initialization \n",
        "\n",
        "S = 3; # Numer of random scenarios \n",
        "q0m = 30; # max capacity for q0.\n",
        "\n",
        "#Demand \n",
        "\n",
        "if S == 3:\n",
        "  D = np.array([[15,20,50]])\n",
        "  Pr= np.array([[0.2,0.6,0.2]]) # Probabilities of demand\n",
        "\n",
        "else:\n",
        "    D = np.random.randint(5,50, size=(1, 3))\n",
        "    Pr = np.random.rand(1,3)\n",
        "    Pr = Pr/np.sum(Pr) # Probabilities of demand\n",
        "\n",
        "# Constants used in the cost function\n",
        "\n",
        "ll0 = 2\n",
        "ll1 = 5\n",
        "\n",
        "# Para revisar cambiar a restricciones de igualdad y usar lb y ub\n",
        "\n",
        "c = np.concatenate((ll0, ll1*Pr), axis=None) # Cost coefficient\n",
        "\n",
        "# Inequality constraints (bounds on production)\n",
        "\n",
        "Ai = -np.identity(int(S+1))\n",
        "Ai = np.vstack([Ai, np.array([1,0,0,0])])\n",
        "bi = np.zeros((S+1,1))\n",
        "bi = np.vstack([bi,q0m])\n",
        "\n",
        "# Equality constraints, i.e. production equals demand\n",
        "\n",
        "Ae = np.transpose(np.array([[1,1,1]]))\n",
        "Ae = np.hstack([Ae, np.identity(S)])\n",
        "be = np.transpose(D)\n",
        "\n",
        "# Solving by linear \n",
        "# xopt should be [  15,  0, 5, 35 ] when S=3\n",
        "\n",
        "# Solution using scipy.optimize\n",
        "\n",
        "A = np.vstack([Ae,Ai])\n",
        "b = np.vstack([be,bi])\n",
        "res = linprog(c, A_ub=Ai, b_ub=bi, A_eq = Ae, b_eq = be ,options={\"disp\": True})\n",
        "print(res)"
      ]
    },
    {
      "cell_type": "markdown",
      "source": [
        "**Question 2:** We are going to numerically solve the linear optimization problem **(5)**.\n",
        "\n",
        "a)\n",
        "[2] Interpret the code below. What is the macro linpro doing? What is lopt? Copy the code into a ﬁle named tp_q1.sce.\n",
        "\n",
        "b)\n",
        "[1+2] Solve a numerical version of problem (5) with $S = 3$ scenarios and the parameters in the code below, by executing the ﬁle tp_q1.sce. What is the optimal value $Q_{0}^{*}$ of the reserve? What is the optimal value $ Q_{1,L}^{*}$? Can you explain why these values are optimal? (there is an economic explanation based on relative costs; there is a mathematical explanation based on the properties of the solutions of a linear program).\n",
        "\n",
        "c)\n",
        "[3] Then, increase and decrease the value of the unitary cost l1 (especially above and below l0). Show the numerical results that you obtain. What happens to the optimal values Q0⋆? Explain why (make the connection with the properties of the solutions of a linear program)."
      ],
      "metadata": {
        "id": "Hfc7HXXQYY1o"
      }
    },
    {
      "cell_type": "markdown",
      "source": [
        "**Question 3:** We are going study the impact of the number $S$ of scenarios on the numerical resolution of the linear optimization problem **(5)**.\n",
        "\n",
        "a)\n",
        "[2] Take $S = 100$. What is the optimal value $Q_{0}^{⋆}$ of the reserve? Identify the scenario $s$ with the lowest demand. What is the optimal value $Q_{1,s}^{*}$? Explain.\n",
        "\n",
        "b)\n",
        "[1] For what value of $n$ in $S = 10n$ can you no longer solve numerically?"
      ],
      "metadata": {
        "id": "PJi8PWd_ZrPo"
      }
    },
    {
      "cell_type": "markdown",
      "source": [
        "## 3. Formulation on a tree with quadratic convex cost\n",
        "\n",
        "Here, we suppose that the costs are quadratic and convex:\n",
        "\n",
        "$$ C_{0}(Q_{0}) = \\frac{1}{2} K_{0}Q_{0}^{2} + l_{0}Q_{0}, \\hspace{0,3cm} K_{0} > 0, \\hspace{0.3cm} C_{1}(Q_{1}) = \\frac{1}{2} K_{1}Q_{1}^{2} + l_{1}Q_{1}, \\hspace{0,3cm} K_{1} > 0 \\hspace{2 cm} (7)  $$\n",
        "\n",
        "The optimization problem **(3)** is quadratic convex:\n",
        "\n",
        " $$ \\min_{Q_{0}, Q_{1,s}, s ∈ \\mathbb{S}} \\sum_{s \\in \\mathbb{S}} \\pi_{s} \\bigg[\\frac{1}{2} K_{0}Q_{0}^{2} + l_{0}Q_{0} + \\frac{1}{2} K_{1}Q_{1}^{2} + l_{1}Q_{1,s}\\bigg]. \\hspace{0.6 cm} (8a)  $$\n",
        "\n",
        " $$ s.t \\hspace{0.5 cm} 0 \\leq Q_{0} \\leq Q_{0}^{\\#}   \\hspace{4.1 cm} (8b) \\\\ \\hspace{2.5 cm} 0 \\leq Q_{1,s} \\hspace{0.8 cm} \\forall s \\in \\mathbb{S} \\hspace{1.8 cm} (8c)  \\\\ D_{s} = Q_{0} + Q_{1,s} \\hspace{1.7cm} \\forall s \\in \\mathbb{S}  \\hspace{1.6 cm} (8d) $$\n"
      ],
      "metadata": {
        "id": "wARovIW_aSoy"
      }
    },
    {
      "cell_type": "markdown",
      "source": [
        "**Question 4:** We are going to numerically solve the quadratic convex optimization problem **(8)**.\n",
        "\n",
        "a)\n",
        "[1] Interpret the code below. What is the macro quapro doing? Copy the code into a ﬁle named tp_q2.sce.\n",
        "\n",
        "b)\n",
        "[1] Solve a numerical version with $S = 3$ scenarios and the parameters in the code below, by executing the ﬁles tp_q1.sce and tp_q2.sce. What is the optimal value $Q_{0}^{⋆}$ of the reserve? What is the optimal value $Q_{1,L}^{⋆}$?\n",
        "\n",
        "c)\n",
        "[1+1+2] Check numerically that $(Q_{0}^{*} ,Q_{1,L}^{*},Q_{1,H}^{*} ,Q_{1,M}^{*} )$   is an inner solution to the optimization problem **(8a)**, that is, check numerically that the inequalities **(8b)** and **(8c)** are strict. What is the diﬀerence with the optimal solution of Question 2? Discuss the diﬀerence (make the connection with the properties of the solutions of a linear program).\n",
        "\n",
        "d)\n",
        "[2+1] Compute the derivatives of the cost functions in **(7)**. Check numerically (giving the details of computation) that the optimal solution $(Q_{0}^{9},Q_{1,L}^{*},Q_{1,M}^{*} ,Q_{1,H}^{*})$   satisﬁes the following relation between marginal costs:\n",
        "\n",
        "$$ \\mathcal{C}′_0(Q^{*}_{0}) = \\pi L\\mathcal{C}′1(Q_{1}^{*},L) + \\pi M \\mathcal{C}′1(Q_{1}^{*},M ) + \\pi H \\mathcal{C}′1(Q_{1,H}^{*},) \\hspace{0.5 cm} (9)$$.\n",
        "   \n",
        "\n"
      ],
      "metadata": {
        "id": "9PekGRT5ertQ"
      }
    },
    {
      "cell_type": "code",
      "source": [
        "from cvxopt import solvers\n",
        "from cvxopt import matrix\n",
        "\n",
        "# We are using the same data as in the previous cell\n",
        "\n",
        "# the problem is now quadratic; we use a quadratic solver\n",
        "\n",
        "KK0 = 10\n",
        "KK1 = 1\n",
        "KK = np.diag(np.concatenate((KK0,KK1*Pr), axis = None))\n",
        "\n",
        "sol = solvers.qp(P = matrix(KK, tc = 'd'),q = matrix(c, tc = 'd'),G = matrix(Ai, tc ='d'),h = matrix(bi, tc = 'd'),A = matrix(Ae, tc = 'd'),b = matrix(be, tc = 'd'))\n",
        "print(sol['x'])\n",
        "print(sol['primal objective'])"
      ],
      "metadata": {
        "id": "Ggt5Uok_gm_-",
        "colab": {
          "base_uri": "https://localhost:8080/"
        },
        "outputId": "bb44de91-7f1d-4711-8f25-3ca8552fb71c"
      },
      "execution_count": null,
      "outputs": [
        {
          "output_type": "stream",
          "name": "stdout",
          "text": [
            "     pcost       dcost       gap    pres   dres\n",
            " 0:  7.0658e+02 -6.3403e+02  1e+03  1e-16  2e+01\n",
            " 1:  5.0554e+02  4.0415e+02  1e+02  8e-16  2e+00\n",
            " 2:  4.8213e+02  4.7460e+02  8e+00  1e-16  1e-02\n",
            " 3:  4.8186e+02  4.8174e+02  1e-01  7e-16  1e-04\n",
            " 4:  4.8186e+02  4.8186e+02  1e-03  2e-16  1e-06\n",
            " 5:  4.8186e+02  4.8186e+02  1e-05  4e-16  1e-08\n",
            "Optimal solution found.\n",
            "[ 2.55e+00]\n",
            "[ 1.25e+01]\n",
            "[ 1.75e+01]\n",
            "[ 4.75e+01]\n",
            "\n",
            "481.86363636363734\n"
          ]
        }
      ]
    },
    {
      "cell_type": "markdown",
      "source": [
        "**Question 5** We are going to numerically solve the quadratic convex optimization problem **(8)** after changing the relative values of the (quadratic) parameters $K_{0}$ and $K_{1}$. For the parameters $K_{0}, l_{0}, l_{1}$, we take the same values as those in Question 2 (hence $l_{1} > l_{0}$) and in Question 4.\n",
        "\n",
        "a)\n",
        "[1] Take $K_{1} > K_{0}$ with $K_{1} ≈ K_{0}$. What are the optimal value Q0⋆ of the reserve and the optimal value $Q_{1,L}^{*}$?\n",
        "\n",
        "b)\n",
        "[1] Take $K_{1} > K_{0}$ with $K_{1} >> K_{0}$. What are the optimal value $Q_{0}^{⋆}$ of the reserve and the optimal value $Q_{1,L}^{*}$?\n",
        "\n",
        "c)\n",
        "[2] Discuss."
      ],
      "metadata": {
        "id": "3sE4SbDXgmC5"
      }
    },
    {
      "cell_type": "markdown",
      "source": [
        "**Question 6** We are going study the impact of the number $S$ of scenarios on the numerical resolution of the quadratic convex optimization problem **(8)**.\n",
        "\n",
        "a)\n",
        "[1] Take $S = 100$. Solve a numerical version of problem **(8)** with the parameters $K_{0}, l_{0}, K_{1}, l_{1}$ as in the code of Question 4. What is the optimal value $Q_{0}^{*}$ of the reserve? Identify the scenario $s$ with the lowest demand. What is the optimal value $Q_{1,s}^{*}$?\n",
        "\n",
        "b)\n",
        "[1] For what value of $n$ in $S = 10n$ can you no longer solve numerically?\n"
      ],
      "metadata": {
        "id": "KWDMgl67kCLH"
      }
    },
    {
      "cell_type": "markdown",
      "source": [
        "**Question 7** This theoretical question may be ignored\n",
        "(by those who want to focus on numerical results)\n",
        "For this question, we temporarily ignore the inequalities ** (8b)** and **(8c)** in **(8)**. Therefore, we consider the optimization problem **(8a)** with equality constraints **(8d)**, that is:\n",
        "\n",
        "$$ \\min_{Q_{0}, Q_{1,s}, s ∈ \\mathbb{S}} \\sum_{s \\in \\mathbb{S}} \\pi_{s} \\bigg[\\frac{1}{2} K_{0}Q_{0}^{2} + l_{0}Q_{0} + \\frac{1}{2} K_{1}Q_{1}^{2} + l_{1}Q_{1,s}\\bigg]. \\hspace{0.6 cm} (10a)  \\\\\n",
        "s.t \\hspace{0.5cm} D_{s} = Q_{0} + Q_{1-s} \\hspace{1.7cm} \\forall s \\in \\mathbb{S}  \\hspace{1.6 cm} (10b) $$\n",
        "\n",
        "\n",
        "a)\n",
        "[2] Compute the Hessian matrix of the criterion\n",
        "$$  J_{0} : ( Q_{0}, (Q_{1,2}))_{s \\in \\mathbb{S}} \\in \\mathbb{R} \\times \\mathbb{R}^{2} \\longmapsto \\sum_{s \\in \\mathbb{S}} \\pi_{s} \\bigg [\\frac{1}{2}K_{0}Q_{0}^{2} + l_{0}Q_{0} +  \\frac{1}{2} K_{1}Q_{1,s}^{2} + l_{1}Q_{1,s}\\bigg]  \\hspace{0,4 cm} (11) $$\n",
        "\n",
        "What are the dimensions of the Hessian matrix?\n",
        "\n",
        "b)\n",
        "[3] Why does optimization problem **(10)** have a solution? (Beware of the domain)\n",
        "\n",
        "c)\n",
        "[2] Why is the solution unique?\n",
        "\n",
        "d)\n",
        "$[1+2]$ Why are the equality constraints **(10b)** qualiﬁed? Why does an optimal solution    \n",
        "\n",
        "\n",
        "$(Q_{0},(Q_{1,s})_{s \\in \\mathbb{S}})$   of **(10)** satisfy the *Karush-Kuhn-Tucker* (KKT) conditions (ﬁrst-order optimality conditions)?\n",
        "\n",
        "e)\n",
        "[2] Why is a solution of the KKT conditions an optimal solution of **(10)**?\n",
        "\n",
        "f)\n",
        "[1] Write the Lagrangian $\\mathcal{L}_{0} (Q_{0}, (Q_{1,s})_{s \\in \\mathbb{S}},(μs)_{s \\in \\mathbb{S}})$   associated with problem **(10)**.\n",
        "\n",
        "g)\n",
        "[2] Deduce the KKT conditions. Show that there exist $(\\mu_{s}^{*},s \\in \\mathbb{S})$ such that\n",
        "$$ \\mathcal{C}_{0}' (Q_{0}^{*})- \\sum_{s \\in \\mathbb{S}} \\mu_{s}^{*} = 0 \\hspace{0.8cm} \\text{and } \\hspace{0.8cm} \\pi_{s}C'_{1}(Q_{1,s}^{*})-\\mu_{s}^{*} = 0, \\ \\forall s \\in \\mathbb{S} \\hspace{0,5cm} (12) $$ \n",
        "\n",
        "h)\n",
        "[2] Deduce that — when $(Q_0^{*},(Q_{1,s}^{*}) s \\in \\mathbb{S})$   is an inner optimal solution to problem (8a) — we have the following relation between marginal costs:\n",
        "         \n",
        "(13)\n",
        "\n",
        "Give an economic interpretation of this equality."
      ],
      "metadata": {
        "id": "mq8IKb50qhwD"
      }
    },
    {
      "cell_type": "markdown",
      "source": [
        "## 4. Formulation on a fan with queadratic convex costs\n",
        "\n",
        "When the number S of scenarios is too large, Problem (5) — be it linear or convex — cannot be solved by direct methods. \n",
        "\n",
        "### 4. 1 Dualization of non-anticipativity constrains.\n",
        "\n",
        "To bypass this problem, we use a \"trick\" consisting in introducing new decision variables $(Q_{0,s})_{s \\in \\mathbb{S}}$ instead of the single decision variable $Q_{0}$ and we write\n",
        "$$ Q_{0,s} = \\sum_{s' \\in \\mathbb{S} } \\pi_{s'}Q_{0,s'}, \\hspace{0.8cm} \\forall s \\in \\mathbb{S}  \\hspace{0.8cm} (14) $$\n",
        "\n",
        "These equalities are called the non-anticipativity constraints. Indeed, the equations **(14)** express that\n",
        "\n",
        "$$ Q_{0,s} = Q_{0,s'}, \\hspace{0,8 cm} \\forall(s,s') \\in \\mathbb{S}^{2}, \\hspace{0,8 cm} (15) $$\n",
        "\n",
        "that is, the decision at stage $t = 0 $ does not depend on the scenario $s$, hence cannot anticipate the future. Later, we will treat the constraints **(14)**  by duality.\n",
        "\n",
        "Therefore, the stochastic optimization problem **(3)** now becomes\n",
        "\n",
        "\n",
        " $$ \\min_{Q_{0}, Q_{1,s}, s ∈ \\mathbb{S}} \\sum_{\\forall s \\in \\mathbb{S}} \\pi_{s} [\\mathcal{C}_{0}(Q_{0,s})+\\mathcal{C}_{1}(Q_{1,s})]. \\hspace{0.1 cm} (16a)  $$\n",
        "\n",
        " $$ s.t \\hspace{0.5 cm} 0 \\leq Q_{0,s} \\leq Q_{0}^{\\#}   \\hspace{3.8 cm} (16b) \\\\ \\hspace{2.5 cm} 0 \\leq Q_{1,s} \\hspace{0.8 cm} \\forall s \\in \\mathbb{S} \\hspace{1.8 cm} (16c)  \\\\ D_{1,s} = Q_{0,s} + Q_{1,s} \\hspace{1cm} \\forall s \\in \\mathbb{S}  \\hspace{1.6 cm} (16d) \\\\ Q_{0,s} = \\sum_{s' \\in \\mathbb{S} } \\pi s'Q_{0,s'} \\hspace{0,2 cm} \\forall s \\in \\mathbb{S}  \\hspace{1.9 cm}  $$\n",
        "\n",
        " By the assumption (1) that there are no scenarios with zero probability $(πs > 0)$, we replace each equality in the last equation by the equivalent one\n",
        "\n",
        " $$ \\pi_{s}Q_{0,s} = \\pi_{s} \\sum_{s'} \\pi_{s'} Q_{0,s} Q_{0,s'} \\hspace{1 cm} \\forall s \\in \\mathbb{S}  \\hspace{0.8cm} (16e)$$\n",
        "\n",
        " We attach, to each equality above a multiplier λ0,s. We put\n",
        "\n",
        " $$  Q = ((Q_{0,s})_{s \\in \\mathbb{S}}, (Q_{1,s})_{s \\in \\mathbb{S}}), \\lambda )= (\\lambda_{0,s})_{s \\in \\mathbb{S}}. \\hspace{1.5 cm} (17). $$\n",
        "\n",
        " The corresponding Lagrangian is\n",
        " $$  \\mathcal{L}(Q, \\lambda) = \\sum_{s \\in \\mathbb{S}} \\pi_{s} \\bigg [ \\mathcal{C}_{0} (Q_{0,s}) + \\mathcal{C}_{1} (Q_{1,s}) + \\lambda_{0,s}(Q_{0,s} - \\sum_{s' \\in \\mathbb{S}} \\pi s' Q_{0,s}) \\bigg] \\hspace{1.5cm} (18a)$$\n",
        " $$  \\hspace{1.7cm}= \\sum_{s \\in \\mathbb{S}} \\pi_{s} \\bigg [ \\mathcal{C}_{0} (Q_{0,s}) +  (\\lambda_{0,s} - \\sum_{s' \\in \\mathbb{S}} \\pi s' \\lambda_{0,s})Q_{0,s} +\\mathcal{C}_{1} (Q_{1,s}) \\bigg] \\hspace{1.5cm} (18b) $$"
      ],
      "metadata": {
        "id": "rxuGcylUP3pj"
      }
    },
    {
      "cell_type": "markdown",
      "source": [
        "**Question 8:** This theoretical question may be ignored\n",
        "(by those who want to focus on numerical results)\n",
        "When the costs are quadratic and convex as in (7), show that\n",
        "\n",
        "a)\n",
        "[3] the criterion\n",
        "\n",
        "$$ J : Q \\in \\mathbb{R}^{S} \\times   \\mathbb{R}^{S}  \\longmapsto \\sum_{s \\in \\mathbb{S}} \\pi_{s} \\bigg [\\frac{1}{2}K_{0}Q_{0,s}^{2} + l_{0}Q_{0,s} +  \\frac{1}{2} K_{1}Q_{1,s}^{2} + l_{1}Q_{1,s}\\bigg]  \\hspace{0,4 cm} (19)$$                                                          \n",
        "                                                                                \n",
        "in **(16a)** is a-strongly convex in $((Q_{0,s})_{s∈𝕊},(Q_{1,s})_{s∈𝕊})$  , and provide a possible $a > 0$,\n",
        "\n",
        "b)\n",
        "[2] the domain deﬁned by the constraints in the optimization problem **(16)** is closed,\n",
        "\n",
        "c)\n",
        "[2] the domain deﬁned by the constraints in the optimization problem **(16)** is convex,\n",
        "\n",
        "d)\n",
        "[2+1] the optimization problem **(16)** has a solution, and it is unique, denoted by **Q⋆**,\n",
        "\n",
        "e)\n",
        "[1] there exists a multiplier $λ⋆$ such that $(Q^⋆,λ^⋆)$ is a saddle point of the Lagrangian $ℒ$ in **(18).**"
      ],
      "metadata": {
        "id": "M_MRhN_LmXL8"
      }
    },
    {
      "cell_type": "markdown",
      "source": [
        "### 4. 1  Uzawa algorithm\n",
        "\n",
        "We consider the following optimization problem\n",
        "\n",
        "$$  \\min_{u \\in \\mathbb{U}^{ad}} J(u)  \\hspace{3cm} (20a)$$\n",
        "$$ s.t. \\hspace{0.5cm} $Θ(u) = 0) \\hspace{1.4cm} (20b)    $$\n",
        "\n",
        "under the assumptions that\n",
        "\n",
        "- the set $\\mathbb{U}^{ad}$ is a closed convex subset of a Euclidian space $\\mathbb{R}^{N}$,\n",
        "- the criterion $J : \\mathbb{R}^{N} → \\mathbb{R}$ is an a-strongly convex $(a > 0)$ and diﬀerentiable function,\n",
        "- the constraint mapping $𝜃 : \\mathbb{R}^{N} → \\mathbb{R}^{M}$ is affine, $κ$-Lipschitz $(κ > 0)$,\n",
        "- the Lagrangian $ℒ(u,λ) = J(u) + ⟨λ, Θ(u)⟩$ admits a saddle-point over $\\mathbb{U}^{ad} \\times \\mathbb{R}^{M} $\n",
        "\n",
        "Then the following algorithm — called dual gradient algorithm, or Uzawa algorithm — converges toward the optimal solution of **Problem (20)**, when $0 < ρ < 2a∕κ2.$"
      ],
      "metadata": {
        "id": "0QOiMGz9rAtS"
      }
    },
    {
      "cell_type": "markdown",
      "source": [
        "Data: Initial multiplier $λ^{(0)}$, step ρ Result: optimal decision and multiplier; repeat $u^{(k)} = arg \\ \\min_{u∈𝕌^{ad}}ℒ(u,λ^{(k)})$ ;\n",
        "$λ^{(k+1)} = λ^{(k)} + ρΘ(u^{(k)})$ ; until $Θ(u^{(k)}) = 0$; Algorithm .1: Dual Gradient Algorithm"
      ],
      "metadata": {
        "id": "Jbho_Bcds5rk"
      }
    },
    {
      "cell_type": "markdown",
      "source": [
        "### 4. 1  Numerical resolution by Uzawa algorithm (quadratic convex case)\n",
        "When the costs are quadratic and convex as in **(7)**, the optimization problem **(16)** becomes:\n",
        "\n",
        "$$ \\min_{Q_{0}, Q_{1,s}, \\forall s ∈ \\mathbb{S}} \\sum_{s \\in \\mathbb{S}} \\pi_{s} \\bigg[\\frac{1}{2} K_{0}Q_{0}^{2} + l_{0}Q_{0} + \\frac{1}{2} K_{1}Q_{1}^{2} + l_{1}Q_{1,s}\\bigg]. \\hspace{0.6 cm} (21a)  $$\n",
        "\n",
        " $$ s.t \\hspace{0.5 cm} 0 \\leq Q_{0,s} \\leq Q_{0}^{\\#}   \\hspace{3.8 cm} (21b) \\\\ \\hspace{2.5 cm} 0 \\leq Q_{1,s} \\hspace{0.8 cm} \\forall s \\in \\mathbb{S} \\hspace{1.8 cm} (21c)  \\\\ D_{1,s} = Q_{0,s} + Q_{1,s} \\hspace{1cm} \\forall s \\in \\mathbb{S}  \\hspace{1.8 cm} (21d) \\\\ Q_{0,s} = \\sum_{s' \\in \\mathbb{S} } \\pi s'Q_{0,s'} \\hspace{1cm} \\forall s \\in \\mathbb{S}  \\hspace{1.8 cm} (21e) $$"
      ],
      "metadata": {
        "id": "RzHLOcR8tkyR"
      }
    },
    {
      "cell_type": "markdown",
      "source": [
        ""
      ],
      "metadata": {
        "id": "a0HU2Tzmt8Jy"
      }
    },
    {
      "cell_type": "markdown",
      "source": [
        "**Question 9:** This theoretical question may be ignored\n",
        "(by those who want to focus on numerical results)\n",
        "When the costs are quadratic and convex as in **(7)**, identify in the optimization problem **(21)** the corresponding elements in the Uzawa algorithm .1:\n",
        "\n",
        "a)\n",
        "[1] decision variable $u$,\n",
        "\n",
        "b)\n",
        "[1] decision set $\\mathbb{R}^{N}$ (for what $N$?),\n",
        "\n",
        "c)\n",
        "[2] aﬃne constraints mapping $Θ : \\mathbb{R}^{N}→ \\mathbb{R}^{M}$, corresponding to the constraints **(21e)** (why is it $κ-$Lipschitz, and for which $κ$?).\n",
        "\n",
        "d)\n",
        "[3] Explain why the Uzawa algorithm converges towards the optimal solution of Problem **(21).**"
      ],
      "metadata": {
        "id": "6vJ2dGuZnpPF"
      }
    },
    {
      "cell_type": "markdown",
      "source": [
        "**Question 10:** We are going to numerically solve the quadratic convex optimization problem **(21)** by Uzawa algorithm.\n",
        "\n",
        "a)\n",
        "[3] Detail what the code below is doing ; explain how the code implements the Uzawa algorithm. Why do we use the macro quapro? What is the dual function? Copy the code into a ﬁle named tp_q3.sce.\n",
        "\n",
        "b)\n",
        "[2] Solve a numerical version with $S = 3$ scenarios. What is the solution $(Q^{⋆}_{0},(Q^{⋆}_{1,s})_{s \\in \\mathbb{S}} )$  given by the algorithm? Do you have that $D_{1,s}  = Q_{0}^{*}+  Q_{1,s}^{*}$ for all $s \\in \\mathbb{S}$\n",
        "\n",
        "c)\n",
        "[1] Then, try with $S = 100$. What is the value $Q_{0}^{*}$ of the reserve given by the algorithm? Identify the scenario s with the lowest demand. What is the value $Q_{1,s}^{*}$ given by the algorithm?\n",
        "\n",
        "d)\n",
        "[1] For what value of n in $S = 10^{n}$ can you no longer solve numerically?"
      ],
      "metadata": {
        "id": "5-FD07vYnnSm"
      }
    },
    {
      "cell_type": "code",
      "source": [
        "  \"\"\"\n",
        "  SCILAB CODE\n",
        "  // formulation on a fan\n",
        "  // Constant initialization \n",
        "  \n",
        "  // Constant initialization  \n",
        "  S=3;// Number of random scenarios  \n",
        "  q0m=30;// max capacity for q0  \n",
        "  \n",
        "  // Demand  \n",
        "  if S==3 then\n",
        "    D=[15;20;50];\n",
        "    Pr=[0.2;0.6;0.2];// Probabilities of Demand  \n",
        "  else\n",
        "    D=grand(S,1,'uin',5,50);\n",
        "    Pr=grand(S,1,'unf',0,1);\n",
        "    Pr=Pr ./sum(Pr);// Probabilities of Demand  \n",
        "  end\n",
        "  \n",
        "  // Constants used in the cost function\n",
        "  ll0=2;ll1=5;\n",
        "  KK0=10;KK1=1;\n",
        "  \n",
        "  // Uzawa iterations when the dualized constraints are the S constraints\n",
        "  //  Q0(ss) = sum(Pr.*Q0); \n",
        "  \n",
        "  Q0=zeros(S,1);\n",
        "  Q1=zeros(S,1);\n",
        "  f0=zeros(S,1);\n",
        "  \n",
        "  rho=5;\n",
        "  \n",
        "  lambda=zeros(S,1);\n",
        "  // iterations of the Uzawa algorithm\n",
        "  for it=0:30 do\n",
        "    // decomposed minimizations (loop over scenarios ss)\n",
        "    for ss=1:S do\n",
        "      // inequality constraints (bounds)\n",
        "      // bounds on (Q0s,Q1s)\n",
        "      ll=[ll0*Pr(ss);ll1*Pr(ss)];// cost coefficients \n",
        "      Ai=[-eye(2,2);eye(1,2)];\n",
        "      bi=[zeros(2,1);q0m];\n",
        "      // equality constraints i.e production equals demand\n",
        "      Ae=[1,1];\n",
        "      be=[D(ss)];\n",
        "      A=[Ae;Ai];b=[be;bi];\n",
        "      KK=Pr(ss)*diag([KK0,KK1]);\n",
        "      // \n",
        "      cc=ll+Pr(ss)*[lambda(ss)-sum(Pr .*lambda);0];\n",
        "      [xopt,lopt,fopt]=quapro(KK,cc,A,b,[],[],size(be,'*'));\n",
        "      Q0(ss)=xopt(1);\n",
        "      Q1(ss)=xopt(2);\n",
        "      f0(ss)=fopt;\n",
        "      printf(\"Dual function %f\\n\",sum(f0));\n",
        "    end\n",
        "    Q0bar=sum(Pr .*Q0);\n",
        "    lambda=lambda+rho*(Pr .*(Q0-Q0bar));\n",
        "  end\"\"\""
      ],
      "metadata": {
        "id": "qF-QCCebni6P"
      },
      "execution_count": null,
      "outputs": []
    },
    {
      "cell_type": "markdown",
      "source": [
        "## 5. Formulation on a fan with linear costs\n",
        "\n",
        "Here, we suppose that the costs are linear, as in $(4)$.\n",
        "\n",
        "### 5. 1 Difficulties in applying Uzawa algorithm with linear costs\n",
        "\n",
        "The optimization problem $(16)$ becomes:\n",
        "\n",
        "\n",
        " $$ \\min_{Q_{0}, Q_{1,s}, s ∈ \\mathbb{S}} \\sum_{s \\in \\mathbb{S}} \\pi_{s} [\\mathcal{l}_{0}(Q_{0,s})+\\mathcal{l}_{1}(Q_{1,s})]. \\hspace{0.1 cm} (22a)  $$\n",
        "\n",
        " $$ s.t \\hspace{0.5 cm} 0 \\leq Q_{0,s} \\leq Q_{0}^{\\#}   \\hspace{3.8 cm} (22b) \\\\ \\hspace{2.5 cm} 0 \\leq Q_{1,s} \\hspace{0.8 cm} \\forall s \\in \\mathbb{S} \\hspace{1.8 cm} (22c)  \\\\ D_{1,s} = Q_{0,s} + Q_{1,s} \\hspace{1cm} \\forall s \\in \\mathbb{S}  \\hspace{1.8 cm} (22d) \\\\ Q_{0,s} = \\sum_{s' \\in \\mathbb{S} } \\pi s'Q_{0,s'} \\hspace{1cm} \\forall s \\in \\mathbb{S}  \\hspace{1.8 cm} (22e) $$"
      ],
      "metadata": {
        "id": "rORoTWq_p9HT"
      }
    },
    {
      "cell_type": "markdown",
      "source": [
        "**Question 11:** We are going to numerically solve the linear optimization problem **(22).**\n",
        "\n",
        "a)\n",
        "[2] Detail what the code below is doing. Why do we use the macro linpro? Copy the code into a ﬁle named tp_q4.sce.\n",
        "\n",
        "b)\n",
        "[3] Solve a numerical version with $S = 3$ scenarios. What do you observe regarding convergence of the Uzawa algorithm? Can you explain why?"
      ],
      "metadata": {
        "id": "KIVNW81AqsJu"
      }
    },
    {
      "cell_type": "code",
      "source": [
        "\"\"\"\n",
        "SCILAB CODE\n",
        "  // formulation on a fan with linear cost \n",
        "  // Uzawa does not work \n",
        "  \n",
        "  S=3;// Number of random scenarios \n",
        "  q0m=30;// max capacity for q0 \n",
        "  D=[15;20;50];\n",
        "  Pr=[0.2;0.6;0.2];// Probabilities of Demand\n",
        "  rho=0.1;\n",
        "  // Constants used in the cost function\n",
        "  ll0=2;ll1=5;\n",
        "  \n",
        "  // Uzawa iterations when the dualized constraints are the S constraints\n",
        "  //  Q0(ss) = sum(Pr.*Q0); \n",
        "  \n",
        "  Q0=zeros(S,1);\n",
        "  Q1=zeros(S,1);\n",
        "  f0=zeros(S,1);\n",
        "  \n",
        "  lambda=zeros(S,1);\n",
        "  for it=0:30 do\n",
        "    // decomposed minimizations \n",
        "    for ss=1:S do\n",
        "      // inequality constraints (bounds)\n",
        "      // bounds on (Q0s,Q1s)\n",
        "      ll=[ll0*Pr(ss);ll1*Pr(ss)];// cost coefficients \n",
        "      Ai=[-eye(2,2);eye(1,2)];\n",
        "      bi=[zeros(2,1);q0m];\n",
        "      // equality constraints i.e production equals demand\n",
        "      Ae=[1,1];\n",
        "      be=[D(ss)];\n",
        "      A=[Ae;Ai];b=[be;bi];\n",
        "      //\n",
        "      cc=ll+Pr(ss)*[lambda(ss)-sum(Pr .*lambda);0];\n",
        "      [xopt,lopt,fopt]=linpro(cc,A,b,[],[],size(be,'*'));\n",
        "      Q0(ss)=xopt(1);\n",
        "      Q1(ss)=xopt(2);\n",
        "      f0(ss)=fopt;\n",
        "      printf(\"Dual function %f\\n\",sum(f0));\n",
        "    end\n",
        "    Q0bar=sum(Pr .*Q0);\n",
        "    lambda=lambda+rho*(Pr .*(Q0-Q0bar));\n",
        "  end\"\"\""
      ],
      "metadata": {
        "id": "abrSQgOYq0Eb"
      },
      "execution_count": null,
      "outputs": []
    },
    {
      "cell_type": "markdown",
      "source": [
        "### 5. 2  Dualization of non-anticipativity constraints\n",
        "\n",
        "To bypass the diﬃculty in applying Uzawa algorithm with linear costs, we use a “trick” consisting in introducing new decision variables $\\overline{Q_{\\overline{0}}}$ and $(Q_{0,s}_{s∈𝕊})$, instead of the single decision variable $Q_{0}$, and we write\n",
        "\n",
        "$$  Q_{0,s} = \\overline{Q_{0}} \\hspace{0.9cm} \\forall s \\in \\mathbb{S} \\hspace{0.8cm} (23)$$\n",
        "\n",
        "These equalities are another form of the non-anticipativity constraints. Indeed, the equations **(23)** express that the decision at stage $t = 0$ cannot anticipate the future, hence cannot depend on the scenario s. We will treat these constraints by duality.\n",
        "\n",
        "Therefore, the stochastic optimization problem (3) now becomes \n",
        "\n",
        " $$ \\min_{\\overline{Q_{0}}, Q_{0,s}, Q_{1,s}, \\forall s ∈ \\mathbb{S}} \\sum_{s \\in \\mathbb{S}} \\pi_{s} [\\mathcal{l}_{0}(Q_{0,s})+\\mathcal{l}_{1}(Q_{1,s})]. \\hspace{0.1 cm} (24a)  $$\n",
        "\n",
        " $$ s.t \\hspace{0.5 cm} 0 \\leq Q_{0,s} \\leq Q_{0}^{\\#}   \\hspace{3.8 cm} (24b) \\\\ \\hspace{2.5 cm} 0 \\leq Q_{1,s} \\hspace{0.8 cm} \\forall s \\in \\mathbb{S} \\hspace{1.8 cm} (24c)  \\\\ D_{1,s} = Q_{0,s} + Q_{1,s} \\hspace{1cm} \\forall s \\in \\mathbb{S}  \\hspace{1.8 cm} (24d) \\\\ Q_{0,s} = \\overline{Q_{0}} \\hspace{2.8cm} \\forall s \\in \\mathbb{S}  \\hspace{1.8 cm} (24e) $$\n",
        "\n",
        " By the assumption $(1)$ that there are no scenarios with zero probability $(π_{s} > 0)$, we replace each equality in $(24e)$ by the equivalent one\n",
        "\n",
        " $$ \\pi_{s} Q_{0,s} = \\pi_{s} \\overline{Q_{0}}, \\hspace{0.4cm} \\forall s \\in \\mathbb{S} (25)  $$\n",
        "\n",
        "We attach, to each equality above a multiplier $λ_{0,s}$. We put\n",
        "\n",
        "$$ Q_{0} = (Q_{0,s})_{s \\in \\mathbb{S}}, \\ Q_{1} = (Q_{1,s})_{s \\in \\mathbb{}S}, \\hspace{0.8cm} \\lambda = (\\lambda_{0,s})_{s \\in \\mathbb{S}  } \\hspace{0.9cm} (26)    $$\n",
        "   ### 5. 3  Augmented Lagrangian and obstacles to decomposition\n",
        "\n",
        "   ###  5.4 Progressive Hedging algorithm (quadratic solver)\n"
      ],
      "metadata": {
        "id": "J0XZ0g_QujjV"
      }
    },
    {
      "cell_type": "markdown",
      "source": [
        "**Question 12** We are going to numerically solve the linear optimization problem **(24)** by the Progressive Hedging algorithm.\n",
        "\n",
        "a)\n",
        "[3] Detail what the code below is doing. Why do we use the macro quapro? Explain the two roles of the new parameter rr. Copy the code into a ﬁle named tp_q5.sce.\n",
        "\n",
        "b)\n",
        "[2] Solve a numerical version with $S = 3$ scenarios. What do you observe regarding convergence of the Uzawa algorithm? Can you explain why?"
      ],
      "metadata": {
        "id": "9hRzIyT4u2Vy"
      }
    },
    {
      "cell_type": "code",
      "source": [
        "\"\"\"\n",
        "SCILAB CODE\n",
        "  // formulation on a fan\n",
        "  // with linear cost and augmented lagrangian \n",
        "  \n",
        "  S=3;// Number of random scenarios \n",
        "  q0m=30;// max capacity for q0 \n",
        "  D=[15;20;50];\n",
        "  Pr=[0.2;0.6;0.2];// Probabilities of Demand\n",
        "  // Constants used in the cost function\n",
        "  ll0=2;ll1=5;\n",
        "  // Constant used both as a quadratic term and as a gradient step\n",
        "  rr=0.1;\n",
        "  \n",
        "  // Uzawa iterations when the dualized constraints are the S constraints\n",
        "  //   Q0s = sum(Pr.*Q0) \n",
        "  \n",
        "  Q0=zeros(S,1);\n",
        "  Q1=zeros(S,1);\n",
        "  f0=zeros(S,1);\n",
        "  \n",
        "  lambda=zeros(S,1);\n",
        "  Q0bar=0;\n",
        "  for it=0:300 do\n",
        "    // decomposed minimizations \n",
        "    // we alternate minimization \n",
        "    for ss=1:S do\n",
        "      // inequality constraints (bounds)\n",
        "      // bounds on (Q0s,Q1s)\n",
        "      ll=[ll0*Pr(ss);ll1*Pr(ss)];// cost coefficients \n",
        "      Ai=[-eye(2,2);eye(1,2)];\n",
        "      bi=[zeros(2,1);q0m];\n",
        "      // equality constraints i.e production equals demand\n",
        "      Ae=[1,1];\n",
        "      be=[D(ss)];\n",
        "      A=[Ae;Ai];b=[be;bi];\n",
        "      KK=rr*Pr(ss)*diag([1,0]);\n",
        "      cc=ll+[Pr(ss)*lambda(ss);0];\n",
        "      cc=cc+[-rr*Q0bar*Pr(ss)];\n",
        "      [xopt,lopt,fopt]=quapro(KK,cc,A,b,[],[],size(be,'*'));\n",
        "      Q0(ss)=xopt(1);\n",
        "      Q1(ss)=xopt(2);\n",
        "      f0(ss)=fopt;\n",
        "    end\n",
        "    // updates of Q0bar \n",
        "    Q0bar=sum(Pr .*Q0);\n",
        "    lambda=lambda+rr*(Pr .*(Q0-Q0bar));\n",
        "  end\n",
        "  \n",
        "  // solution (Q0bar,Q1)\n",
        "  Q1=max(0,(D-Q0bar));\n",
        "  // to be compared with tp_q1 \"\"\""
      ],
      "metadata": {
        "id": "86y_qIcMu9eJ"
      },
      "execution_count": null,
      "outputs": []
    },
    {
      "cell_type": "markdown",
      "source": [
        "### 5.5 Progressive Hedging algorithm (linear solver)\n",
        "A. Additional code for “Formulation on a tree with linear costs”"
      ],
      "metadata": {
        "id": "sdLlspXMvBxq"
      }
    },
    {
      "cell_type": "code",
      "source": [
        " \"\"\"\n",
        " SCILAB CODE\n",
        " // Formulation on a tree with linear costs. \n",
        "  // Numerical resolution by linear programming\n",
        "  // using nsp linprog (glpk).\n",
        "  \n",
        "  // Constant initialization \n",
        "  S=3;// Number of random scenarios \n",
        "  q0m=30;// max capacity for q0 \n",
        "  \n",
        "  // Demand \n",
        "  if S==3 then\n",
        "    D=[15;20;50];\n",
        "    Pr=[0.2;0.6;0.2];// Probabilities of Demand\n",
        "  else\n",
        "    D=grand(S,1,'uin',5,50);\n",
        "    Pr=grand(S,1,'unf',0,1);\n",
        "    Pr=Pr ./sum(Pr);// Probabilities of Demand\n",
        "  end\n",
        "  \n",
        "  // Constants used in the cost function\n",
        "  ll0=2;ll1=5;\n",
        "  \n",
        "  // a revoir pour passer a des contraintes egalité et utiliser lb et ub \n",
        "  c=[ll0;ll1 .*Pr];// cost coefficients \n",
        "  \n",
        "  // inequality constraints (bounds on production)\n",
        "  Ai=[-eye(S+1,S+1);eye(1,S+1)];\n",
        "  bi=[zeros(S+1,1);q0m];\n",
        "  \n",
        "  // equality constraints, i.e. production equals demand\n",
        "  Ae=[ones(S,1),eye(S,S)];\n",
        "  be=[D];\n",
        "  \n",
        "  // solving by linear \n",
        "  // xopt should be [  15,  0, 5, 35 ] when S=3\n",
        "  \n",
        "  if exists('%nsp') then\n",
        "    // in nsp linprog is glpk\n",
        "    [xopt,fopt,flag]=linprog(c,Ai,bi,Ae,be);\n",
        "    // we can also use quapro if available with a 0 quadratic term \n",
        "    if exists('quapro','callable') then\n",
        "      A=[Ae;Ai];b=[be;bi];\n",
        "      [xopt_q,lagr_q,fopt_q]=quapro(zeros(S+1,S+1),c,A,b,[],[],size(be,'*'))\n",
        "    end\n",
        "  else\n",
        "    // scicoslab version with linpro \n",
        "    A=[Ae;Ai];b=[be;bi];\n",
        "    [xopt,lopt,fopt]=linpro(c,A,b,[],[],size(be,'*'))\"\"\""
      ],
      "metadata": {
        "id": "UypD2rKMu_P8"
      },
      "execution_count": null,
      "outputs": []
    },
    {
      "cell_type": "markdown",
      "source": [
        "B. Additional code for “Formulation on a tree with quadratic convex costs”"
      ],
      "metadata": {
        "id": "YE7PZvHCvG0V"
      }
    },
    {
      "cell_type": "code",
      "source": [
        "  \"\"\"\n",
        "  SCILAB CODE\n",
        "  // Formulation on a tree with quadratic costs \n",
        "  // Numerical resolution by brute force quadratic programming \n",
        "  // using nsp quapro or optim \n",
        "  \n",
        "  if exists('%nsp') then\n",
        "    load_toolbox('quapro');\n",
        "  end\n",
        "  \n",
        "  // just to get common data \n",
        "  exec('tp_q1.sce');\n",
        "  \n",
        "  // the problem is now quadratic; we use a quadratic solver if available \n",
        "  A=[Ae;Ai];b=[be;bi];\n",
        "  KK0=10;KK1=1;\n",
        "  KK=diag([KK0,KK1*Pr' .*ones(1,S)]);\n",
        "  \n",
        "  if exists('%nsp') then\n",
        "    // we can also use quapro if available with a 0 quadratic term \n",
        "    if exists('quapro','callable') then\n",
        "      [xopt_q,lagr_q,fopt_q]=quapro(KK,c,A,b,[],[],size(be,'*'))\n",
        "    end\n",
        "  else\n",
        "    // scicoslab version with quapro\n",
        "    [xopt,lopt,fopt]=quapro(KK,c,A,b,[],[],size(be,'*'))\n",
        "  end\n",
        "  \n",
        "  // BEWARE: using a global optim if quapro is not available \n",
        "  // we eliminate the equality constraint to use optim on q0 \n",
        "  \n",
        "  function [f,g,ind]=costf(q0,ind)\n",
        "    q1=max(0,(D-q0));\n",
        "    // expression of the cost \n",
        "    f=sum(Pr .*(ll0*q0+ll1*q1))+(1/2)*[q0;q1]'*KK*[q0;q1]\n",
        "    // expression of the cost derivative\n",
        "    g=sum(Pr .*(ll0-ll1*(D-q0 >= 0)))+KK(1,1)*q0+-sum((D-q0 >= 0) .*(KK(2:$,2:$)*q1))\n",
        "  endfunction\n",
        "  \n",
        "  if exists('%nsp') then\n",
        "    Q0=optim(costf,0,xinf = 0,xsup = q0m)\n",
        "  else\n",
        "    [fo,Q0]=optim(costf,'b',0,q0m,0)\n",
        "  end\n",
        "  \n",
        "  // solution (Q0,Q1)\n",
        "  Q1=max(0,(D-Q0))\"\"\""
      ],
      "metadata": {
        "id": "lPm9J4DrvMll"
      },
      "execution_count": null,
      "outputs": []
    }
  ]
}