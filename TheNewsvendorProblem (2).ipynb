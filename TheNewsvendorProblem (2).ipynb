{
  "nbformat": 4,
  "nbformat_minor": 0,
  "metadata": {
    "colab": {
      "name": "TheNewsvendorProblem.ipynb",
      "provenance": [],
      "collapsed_sections": []
    },
    "kernelspec": {
      "name": "python3",
      "display_name": "Python 3"
    },
    "language_info": {
      "name": "python"
    }
  },
  "cells": [
    {
      "cell_type": "markdown",
      "source": [
        "This project is a Python adaptation of\n",
        "[Michel de Lara Scilab code](http://cermics.enpc.fr/scilab_new/site/Tp/Economics/newsvendor/index.html) and it has academic purposes.\n",
        "\n",
        "Authors: Andres Rubiano, Jhoan Tenjo, Juan Galvis."
      ],
      "metadata": {
        "id": "R11pvnASordo"
      }
    },
    {
      "cell_type": "markdown",
      "source": [
        "#1. The newsvendor problem (integer formulation)\n",
        "\n",
        "Each morning, the newsvendor must decide how many copies $u \\in \\{1, 2,…,u^{\\#}\\}$ of the day’s paper to order. The variable $u$ is called control.\n",
        "During the day, the newsvendor will meet an unknown demand $w  \\in \\{1,2,...,w^{\\#} \\}$ . The variable $w$ is called uncertainty.\n",
        "The newsvendor faces an economic tradeoﬀ:\n",
        "\n",
        "- he pays the unitary purchasing cost $c$ per copy, when he orders stock;\n",
        "- he sells a copy at price $p$;\n",
        "- if he remains with an unsold copy, it is worthless (perishable good).\n",
        "\n",
        "Therefore, the newsvendor’s costs are (where $w \\in \\{1, 2,…,w^{\\#}\\}$ is a possible value of the demand)\n",
        "\n",
        "\n",
        "$$j(u,w ) =c \\underbrace{ u }_{cuantity \\\\ purchase} − p \\underbrace{\\min-\\{u,w\\}}_{quantity \\\\ sold}$$\n",
        "\n",
        "       \n",
        "The newsvendor’s payoﬀ is −j(u,w).\n",
        "\n",
        "Now, we introduce a random variable $W$, where $W : \\Omega \\xrightarrow{} \\{1, 2,…,w^{\\#}\\}$. Here, $\\Omega$ is an underlying probability space, equipped with a probability $\\mathbb{P}$. We suppose that the newsvendor knows the probability distribution $\\mathbb{P}W$ of the demand W.\n",
        "\n",
        "Thus equipped, we consider the stochastic optimization problem of expected costs minimization:\n",
        "\n",
        "  $$ \\min_{ u \\in \\{ 1,2,...,u^{\\#}\\}}    J(u) = \\mathbb{E}_{\\mathbb{P}}  [j(u, W )].$$\n",
        "      \n"
      ],
      "metadata": {
        "id": "2KsQP-iykK3i"
      }
    },
    {
      "cell_type": "code",
      "execution_count": null,
      "metadata": {
        "id": "uELLRydKfNOh"
      },
      "outputs": [],
      "source": [
        "import numpy as np\n",
        "\n",
        "# Demand\n",
        "wsharp = 100;  # No larger, else the Poisson distribution cannot be computed\n",
        "wflat = 1;\n",
        "demand = np.zeros((1,wsharp));\n",
        "for i in range(wsharp):\n",
        "    demand[0][i] = i+1;\n",
        "\n",
        "# Control\n",
        "\n",
        "control = np.zeros((1,wsharp+1));\n",
        "for i in range(wsharp+1):\n",
        "    control[0][i] = i+1;\n",
        "\n",
        "# Criterion / costs \n",
        "\n",
        "cc = 1;\n",
        "pp = 10*cc;\n",
        "\n",
        "# cc=1; \n",
        "# pp=1.1*cc; \n",
        "\n",
        "# avoid that cc/pp is the inverse of an integer when the distribution of demand is uniform\n",
        "\n",
        "ones_demand = np.zeros((1,wsharp));\n",
        "for i in range(wsharp):\n",
        "    ones_demand[0][i] = 1;\n",
        "    \n",
        "ones_control = np.zeros((1,wsharp+1));\n",
        "for i in range(wsharp+1):\n",
        "    ones_control[0][i] = 1;\n",
        "    \n",
        "costs = np.matmul(cc*np.transpose(control),ones_demand) - pp*np.minimum(np.matmul(np.transpose(ones_control),demand),np.matmul(np.transpose(control),ones_demand));\n",
        "\n",
        "# One row by control, one column by demand"
      ]
    },
    {
      "cell_type": "markdown",
      "source": [
        "We will consider different demand distributions"
      ],
      "metadata": {
        "id": "nSO_ev56FXhS"
      }
    },
    {
      "cell_type": "markdown",
      "source": [
        "#1.1 The demand distribution is uniform\n",
        "\n",
        "First, we suppose that the demand distribution $ℙ_{W}$ is uniform as follows."
      ],
      "metadata": {
        "id": "c4ISlbSLFb28"
      }
    },
    {
      "cell_type": "code",
      "source": [
        "probab = ones_demand;\n",
        "probab = probab/np.sum(probab);"
      ],
      "metadata": {
        "id": "e0-ZpzfzfQYj"
      },
      "execution_count": null,
      "outputs": []
    },
    {
      "cell_type": "markdown",
      "source": [
        "# Questions 1\n",
        "\n",
        "- [1] Draw a histogram of the random demand W. \n",
        "\n",
        "\n",
        "- [1+1] In the Python code above, what does the matrix costs represent? (What do you ﬁnd at the intersection of a row and of a column?) Explain in detail why we have that criterion = probab*np.transpose(costs) is a row vector made of the values of $J (u) = 𝔼_{ℙ}[j(u,W )]$ for $u ∈\\{1, 2,…,u^{♯}\\}$? \n",
        "\n",
        "\n",
        "- [1+1] Draw the mapping $u ∈ \\{1, 2,…,u^{♯}\\}↦J(u)$. Thanks to the numpy min (that provides the minimum and the argmin index of a vector), give the numerical value of the decision $u^{⋆}$ (optimal order) that minimizes $u↦J(u)$. \n",
        "\n",
        "\n",
        "- [1+1] What does the vector decumprobab=1-cumsum(probab) represent? Explain your answer. Check that, in agreement with the theory, we numerically have that\n",
        "    $$ℙ(W > u^{⋆} − 1) ≥ \\frac{c}{p} ≥ ℙ (W > u^{⋆})$$\n",
        "\n",
        "\n",
        "- [2+1] For a given value of u, explain why the random variable $j (u, W )$ can at most take the values $\\{j(u,1),...,j(u,u − 1),j(u,u )\\}$ . Give, for each of the u elements of this list, the corresponding probability that $j(u,W )$ takes this value in the list. In the end, you will provide an expression of the probability distribution of $j(u,W )$ , using probab and decumprobab. \n",
        "\n",
        "\n",
        "- [1+2] Draw histograms of the probability distribution of the random payoﬀ (the opposite of the costs) $− j(u, W )$ for $u = u^{⋆}$ (the optimal decision) and for $u = 𝔼_{ℙ}[W]$ (the naive deterministic solution consisting in ordering the mean demand $𝔼_{ℙ}[W])$. Draw the two histograms on the same picture, so that they have the same scale. Comment on the diﬀerences between the two histograms. \n",
        "\n",
        "\n",
        "- [1+1+1+2] The vector grand(365,\"markov\",ones(probab’)*probab,1) represents a sequence of realizations of 365 i.i.d. random variables having the same distribution than the demand $W$. Simulate and draw the trajectory of the cumulated payoﬀs of the newsvendor during one year if, every day, he orders the optimal quantity u = u⋆. Do the same for $u = 𝔼_{ℙ}[W]$ and draw it on the same picture. In what sense does the the optimal decision u = u⋆ does better than $u = 𝔼_{ℙ}[W]$? Justify in detail why the two trajectories are approximately straight lines; to what correspond the slopes?\n",
        "\n",
        "\n",
        "Now, we study if the results are robusts to changes in the the ratio between the unitary purchasing cost $c$ and the selling price $p$.\n",
        "\n",
        "\n",
        "- [2] Take $c < p$ with $c ≈ p$. Find the optimal decision $u^{⋆}$. Draw histograms of the probability distribution of the random payoﬀ $− j(u,W )$ for $u = u^{⋆}$ and for $u = 𝔼_{ℙ}[W]$. Simulate and draw trajectories of the corresponding cumulated payoﬀs.\n",
        "\n",
        "\n",
        "- [2] Same question with $c << p$. \n",
        "\n",
        "\n",
        "- [2] Discuss. In particular, how does the optimal solution $u^{⋆}$ vary with the ratio $c∕p$?\n",
        "\n"
      ],
      "metadata": {
        "id": "_V-zk8n1fSnm"
      }
    },
    {
      "cell_type": "markdown",
      "source": [
        "#Solutions:"
      ],
      "metadata": {
        "id": "6EboAcHnk8p-"
      }
    },
    {
      "cell_type": "markdown",
      "source": [
        "# Exercise [1]"
      ],
      "metadata": {
        "id": "lsEKOjCnTiBn"
      }
    },
    {
      "cell_type": "code",
      "source": [
        "import matplotlib.pyplot as plt\n",
        "\n",
        "# [1]\n",
        "\n",
        "plt.hist(demand);\n",
        "plt.title(\"Histogram of the demand\")\n",
        "plt.show();"
      ],
      "metadata": {
        "colab": {
          "base_uri": "https://localhost:8080/",
          "height": 281
        },
        "id": "kvtYgcs4jen5",
        "outputId": "0d554ee9-060d-4408-a217-d0c2909be3c4"
      },
      "execution_count": null,
      "outputs": [
        {
          "output_type": "display_data",
          "data": {
            "text/plain": [
              "<Figure size 432x288 with 1 Axes>"
            ],
            "image/png": "[encoded data removed]"
          },
          "metadata": {
            "needs_background": "light"
          }
        }
      ]
    },
    {
      "cell_type": "markdown",
      "source": [
        "# Exercise [1+1]"
      ],
      "metadata": {
        "id": "TTo8FJCYTa1X"
      }
    },
    {
      "cell_type": "code",
      "source": [
        "from IPython.display import display\n",
        "import pandas as pd\n",
        "\n",
        "# [1+1]\n",
        "\n",
        "# the dataframe in python represents a panel data table with integrated indexing, in this case is useful represent the cost matrix.\n",
        "costs_df = pd.DataFrame(costs);\n",
        "display(costs_df);"
      ],
      "metadata": {
        "colab": {
          "base_uri": "https://localhost:8080/",
          "height": 424
        },
        "id": "l1qEswQTmkKK",
        "outputId": "50a5e37f-d1ae-4eaa-d0ac-6d8ff3e793db"
      },
      "execution_count": null,
      "outputs": [
        {
          "output_type": "display_data",
          "data": {
            "text/plain": [
              "       0     1     2     3     4     5     6     7     8     9   ...     90  \\\n",
              "0    -9.0  -9.0  -9.0  -9.0  -9.0  -9.0  -9.0  -9.0  -9.0  -9.0  ...   -9.0   \n",
              "1    -8.0 -18.0 -18.0 -18.0 -18.0 -18.0 -18.0 -18.0 -18.0 -18.0  ...  -18.0   \n",
              "2    -7.0 -17.0 -27.0 -27.0 -27.0 -27.0 -27.0 -27.0 -27.0 -27.0  ...  -27.0   \n",
              "3    -6.0 -16.0 -26.0 -36.0 -36.0 -36.0 -36.0 -36.0 -36.0 -36.0  ...  -36.0   \n",
              "4    -5.0 -15.0 -25.0 -35.0 -45.0 -45.0 -45.0 -45.0 -45.0 -45.0  ...  -45.0   \n",
              "..    ...   ...   ...   ...   ...   ...   ...   ...   ...   ...  ...    ...   \n",
              "96   87.0  77.0  67.0  57.0  47.0  37.0  27.0  17.0   7.0  -3.0  ... -813.0   \n",
              "97   88.0  78.0  68.0  58.0  48.0  38.0  28.0  18.0   8.0  -2.0  ... -812.0   \n",
              "98   89.0  79.0  69.0  59.0  49.0  39.0  29.0  19.0   9.0  -1.0  ... -811.0   \n",
              "99   90.0  80.0  70.0  60.0  50.0  40.0  30.0  20.0  10.0   0.0  ... -810.0   \n",
              "100  91.0  81.0  71.0  61.0  51.0  41.0  31.0  21.0  11.0   1.0  ... -809.0   \n",
              "\n",
              "        91     92     93     94     95     96     97     98     99  \n",
              "0     -9.0   -9.0   -9.0   -9.0   -9.0   -9.0   -9.0   -9.0   -9.0  \n",
              "1    -18.0  -18.0  -18.0  -18.0  -18.0  -18.0  -18.0  -18.0  -18.0  \n",
              "2    -27.0  -27.0  -27.0  -27.0  -27.0  -27.0  -27.0  -27.0  -27.0  \n",
              "3    -36.0  -36.0  -36.0  -36.0  -36.0  -36.0  -36.0  -36.0  -36.0  \n",
              "4    -45.0  -45.0  -45.0  -45.0  -45.0  -45.0  -45.0  -45.0  -45.0  \n",
              "..     ...    ...    ...    ...    ...    ...    ...    ...    ...  \n",
              "96  -823.0 -833.0 -843.0 -853.0 -863.0 -873.0 -873.0 -873.0 -873.0  \n",
              "97  -822.0 -832.0 -842.0 -852.0 -862.0 -872.0 -882.0 -882.0 -882.0  \n",
              "98  -821.0 -831.0 -841.0 -851.0 -861.0 -871.0 -881.0 -891.0 -891.0  \n",
              "99  -820.0 -830.0 -840.0 -850.0 -860.0 -870.0 -880.0 -890.0 -900.0  \n",
              "100 -819.0 -829.0 -839.0 -849.0 -859.0 -869.0 -879.0 -889.0 -899.0  \n",
              "\n",
              "[101 rows x 100 columns]"
            ],
            "text/html": [
              "\n",
              "  <div id=\"df-e9e1698e-6008-4629-ac96-2a131168470f\">\n",
              "    <div class=\"colab-df-container\">\n",
              "      <div>\n",
              "<style scoped>\n",
              "    .dataframe tbody tr th:only-of-type {\n",
              "        vertical-align: middle;\n",
              "    }\n",
              "\n",
              "    .dataframe tbody tr th {\n",
              "        vertical-align: top;\n",
              "    }\n",
              "\n",
              "    .dataframe thead th {\n",
              "        text-align: right;\n",
              "    }\n",
              "</style>\n",
              "<table border=\"1\" class=\"dataframe\">\n",
              "  <thead>\n",
              "    <tr style=\"text-align: right;\">\n",
              "      <th></th>\n",
              "      <th>0</th>\n",
              "      <th>1</th>\n",
              "      <th>2</th>\n",
              "      <th>3</th>\n",
              "      <th>4</th>\n",
              "      <th>5</th>\n",
              "      <th>6</th>\n",
              "      <th>7</th>\n",
              "      <th>8</th>\n",
              "      <th>9</th>\n",
              "      <th>...</th>\n",
              "      <th>90</th>\n",
              "      <th>91</th>\n",
              "      <th>92</th>\n",
              "      <th>93</th>\n",
              "      <th>94</th>\n",
              "      <th>95</th>\n",
              "      <th>96</th>\n",
              "      <th>97</th>\n",
              "      <th>98</th>\n",
              "      <th>99</th>\n",
              "    </tr>\n",
              "  </thead>\n",
              "  <tbody>\n",
              "    <tr>\n",
              "      <th>0</th>\n",
              "      <td>-9.0</td>\n",
              "      <td>-9.0</td>\n",
              "      <td>-9.0</td>\n",
              "      <td>-9.0</td>\n",
              "      <td>-9.0</td>\n",
              "      <td>-9.0</td>\n",
              "      <td>-9.0</td>\n",
              "      <td>-9.0</td>\n",
              "      <td>-9.0</td>\n",
              "      <td>-9.0</td>\n",
              "      <td>...</td>\n",
              "      <td>-9.0</td>\n",
              "      <td>-9.0</td>\n",
              "      <td>-9.0</td>\n",
              "      <td>-9.0</td>\n",
              "      <td>-9.0</td>\n",
              "      <td>-9.0</td>\n",
              "      <td>-9.0</td>\n",
              "      <td>-9.0</td>\n",
              "      <td>-9.0</td>\n",
              "      <td>-9.0</td>\n",
              "    </tr>\n",
              "    <tr>\n",
              "      <th>1</th>\n",
              "      <td>-8.0</td>\n",
              "      <td>-18.0</td>\n",
              "      <td>-18.0</td>\n",
              "      <td>-18.0</td>\n",
              "      <td>-18.0</td>\n",
              "      <td>-18.0</td>\n",
              "      <td>-18.0</td>\n",
              "      <td>-18.0</td>\n",
              "      <td>-18.0</td>\n",
              "      <td>-18.0</td>\n",
              "      <td>...</td>\n",
              "      <td>-18.0</td>\n",
              "      <td>-18.0</td>\n",
              "      <td>-18.0</td>\n",
              "      <td>-18.0</td>\n",
              "      <td>-18.0</td>\n",
              "      <td>-18.0</td>\n",
              "      <td>-18.0</td>\n",
              "      <td>-18.0</td>\n",
              "      <td>-18.0</td>\n",
              "      <td>-18.0</td>\n",
              "    </tr>\n",
              "    <tr>\n",
              "      <th>2</th>\n",
              "      <td>-7.0</td>\n",
              "      <td>-17.0</td>\n",
              "      <td>-27.0</td>\n",
              "      <td>-27.0</td>\n",
              "      <td>-27.0</td>\n",
              "      <td>-27.0</td>\n",
              "      <td>-27.0</td>\n",
              "      <td>-27.0</td>\n",
              "      <td>-27.0</td>\n",
              "      <td>-27.0</td>\n",
              "      <td>...</td>\n",
              "      <td>-27.0</td>\n",
              "      <td>-27.0</td>\n",
              "      <td>-27.0</td>\n",
              "      <td>-27.0</td>\n",
              "      <td>-27.0</td>\n",
              "      <td>-27.0</td>\n",
              "      <td>-27.0</td>\n",
              "      <td>-27.0</td>\n",
              "      <td>-27.0</td>\n",
              "      <td>-27.0</td>\n",
              "    </tr>\n",
              "    <tr>\n",
              "      <th>3</th>\n",
              "      <td>-6.0</td>\n",
              "      <td>-16.0</td>\n",
              "      <td>-26.0</td>\n",
              "      <td>-36.0</td>\n",
              "      <td>-36.0</td>\n",
              "      <td>-36.0</td>\n",
              "      <td>-36.0</td>\n",
              "      <td>-36.0</td>\n",
              "      <td>-36.0</td>\n",
              "      <td>-36.0</td>\n",
              "      <td>...</td>\n",
              "      <td>-36.0</td>\n",
              "      <td>-36.0</td>\n",
              "      <td>-36.0</td>\n",
              "      <td>-36.0</td>\n",
              "      <td>-36.0</td>\n",
              "      <td>-36.0</td>\n",
              "      <td>-36.0</td>\n",
              "      <td>-36.0</td>\n",
              "      <td>-36.0</td>\n",
              "      <td>-36.0</td>\n",
              "    </tr>\n",
              "    <tr>\n",
              "      <th>4</th>\n",
              "      <td>-5.0</td>\n",
              "      <td>-15.0</td>\n",
              "      <td>-25.0</td>\n",
              "      <td>-35.0</td>\n",
              "      <td>-45.0</td>\n",
              "      <td>-45.0</td>\n",
              "      <td>-45.0</td>\n",
              "      <td>-45.0</td>\n",
              "      <td>-45.0</td>\n",
              "      <td>-45.0</td>\n",
              "      <td>...</td>\n",
              "      <td>-45.0</td>\n",
              "      <td>-45.0</td>\n",
              "      <td>-45.0</td>\n",
              "      <td>-45.0</td>\n",
              "      <td>-45.0</td>\n",
              "      <td>-45.0</td>\n",
              "      <td>-45.0</td>\n",
              "      <td>-45.0</td>\n",
              "      <td>-45.0</td>\n",
              "      <td>-45.0</td>\n",
              "    </tr>\n",
              "    <tr>\n",
              "      <th>...</th>\n",
              "      <td>...</td>\n",
              "      <td>...</td>\n",
              "      <td>...</td>\n",
              "      <td>...</td>\n",
              "      <td>...</td>\n",
              "      <td>...</td>\n",
              "      <td>...</td>\n",
              "      <td>...</td>\n",
              "      <td>...</td>\n",
              "      <td>...</td>\n",
              "      <td>...</td>\n",
              "      <td>...</td>\n",
              "      <td>...</td>\n",
              "      <td>...</td>\n",
              "      <td>...</td>\n",
              "      <td>...</td>\n",
              "      <td>...</td>\n",
              "      <td>...</td>\n",
              "      <td>...</td>\n",
              "      <td>...</td>\n",
              "      <td>...</td>\n",
              "    </tr>\n",
              "    <tr>\n",
              "      <th>96</th>\n",
              "      <td>87.0</td>\n",
              "      <td>77.0</td>\n",
              "      <td>67.0</td>\n",
              "      <td>57.0</td>\n",
              "      <td>47.0</td>\n",
              "      <td>37.0</td>\n",
              "      <td>27.0</td>\n",
              "      <td>17.0</td>\n",
              "      <td>7.0</td>\n",
              "      <td>-3.0</td>\n",
              "      <td>...</td>\n",
              "      <td>-813.0</td>\n",
              "      <td>-823.0</td>\n",
              "      <td>-833.0</td>\n",
              "      <td>-843.0</td>\n",
              "      <td>-853.0</td>\n",
              "      <td>-863.0</td>\n",
              "      <td>-873.0</td>\n",
              "      <td>-873.0</td>\n",
              "      <td>-873.0</td>\n",
              "      <td>-873.0</td>\n",
              "    </tr>\n",
              "    <tr>\n",
              "      <th>97</th>\n",
              "      <td>88.0</td>\n",
              "      <td>78.0</td>\n",
              "      <td>68.0</td>\n",
              "      <td>58.0</td>\n",
              "      <td>48.0</td>\n",
              "      <td>38.0</td>\n",
              "      <td>28.0</td>\n",
              "      <td>18.0</td>\n",
              "      <td>8.0</td>\n",
              "      <td>-2.0</td>\n",
              "      <td>...</td>\n",
              "      <td>-812.0</td>\n",
              "      <td>-822.0</td>\n",
              "      <td>-832.0</td>\n",
              "      <td>-842.0</td>\n",
              "      <td>-852.0</td>\n",
              "      <td>-862.0</td>\n",
              "      <td>-872.0</td>\n",
              "      <td>-882.0</td>\n",
              "      <td>-882.0</td>\n",
              "      <td>-882.0</td>\n",
              "    </tr>\n",
              "    <tr>\n",
              "      <th>98</th>\n",
              "      <td>89.0</td>\n",
              "      <td>79.0</td>\n",
              "      <td>69.0</td>\n",
              "      <td>59.0</td>\n",
              "      <td>49.0</td>\n",
              "      <td>39.0</td>\n",
              "      <td>29.0</td>\n",
              "      <td>19.0</td>\n",
              "      <td>9.0</td>\n",
              "      <td>-1.0</td>\n",
              "      <td>...</td>\n",
              "      <td>-811.0</td>\n",
              "      <td>-821.0</td>\n",
              "      <td>-831.0</td>\n",
              "      <td>-841.0</td>\n",
              "      <td>-851.0</td>\n",
              "      <td>-861.0</td>\n",
              "      <td>-871.0</td>\n",
              "      <td>-881.0</td>\n",
              "      <td>-891.0</td>\n",
              "      <td>-891.0</td>\n",
              "    </tr>\n",
              "    <tr>\n",
              "      <th>99</th>\n",
              "      <td>90.0</td>\n",
              "      <td>80.0</td>\n",
              "      <td>70.0</td>\n",
              "      <td>60.0</td>\n",
              "      <td>50.0</td>\n",
              "      <td>40.0</td>\n",
              "      <td>30.0</td>\n",
              "      <td>20.0</td>\n",
              "      <td>10.0</td>\n",
              "      <td>0.0</td>\n",
              "      <td>...</td>\n",
              "      <td>-810.0</td>\n",
              "      <td>-820.0</td>\n",
              "      <td>-830.0</td>\n",
              "      <td>-840.0</td>\n",
              "      <td>-850.0</td>\n",
              "      <td>-860.0</td>\n",
              "      <td>-870.0</td>\n",
              "      <td>-880.0</td>\n",
              "      <td>-890.0</td>\n",
              "      <td>-900.0</td>\n",
              "    </tr>\n",
              "    <tr>\n",
              "      <th>100</th>\n",
              "      <td>91.0</td>\n",
              "      <td>81.0</td>\n",
              "      <td>71.0</td>\n",
              "      <td>61.0</td>\n",
              "      <td>51.0</td>\n",
              "      <td>41.0</td>\n",
              "      <td>31.0</td>\n",
              "      <td>21.0</td>\n",
              "      <td>11.0</td>\n",
              "      <td>1.0</td>\n",
              "      <td>...</td>\n",
              "      <td>-809.0</td>\n",
              "      <td>-819.0</td>\n",
              "      <td>-829.0</td>\n",
              "      <td>-839.0</td>\n",
              "      <td>-849.0</td>\n",
              "      <td>-859.0</td>\n",
              "      <td>-869.0</td>\n",
              "      <td>-879.0</td>\n",
              "      <td>-889.0</td>\n",
              "      <td>-899.0</td>\n",
              "    </tr>\n",
              "  </tbody>\n",
              "</table>\n",
              "<p>101 rows × 100 columns</p>\n",
              "</div>\n",
              "      <button class=\"colab-df-convert\" onclick=\"convertToInteractive('df-e9e1698e-6008-4629-ac96-2a131168470f')\"\n",
              "              title=\"Convert this dataframe to an interactive table.\"\n",
              "              style=\"display:none;\">\n",
              "        \n",
              "  <svg xmlns=\"http://www.w3.org/2000/svg\" height=\"24px\"viewBox=\"0 0 24 24\"\n",
              "       width=\"24px\">\n",
              "    <path d=\"M0 0h24v24H0V0z\" fill=\"none\"/>\n",
              "    <path d=\"M18.56 5.44l.94 2.06.94-2.06 2.06-.94-2.06-.94-.94-2.06-.94 2.06-2.06.94zm-11 1L8.5 8.5l.94-2.06 2.06-.94-2.06-.94L8.5 2.5l-.94 2.06-2.06.94zm10 10l.94 2.06.94-2.06 2.06-.94-2.06-.94-.94-2.06-.94 2.06-2.06.94z\"/><path d=\"M17.41 7.96l-1.37-1.37c-.4-.4-.92-.59-1.43-.59-.52 0-1.04.2-1.43.59L10.3 9.45l-7.72 7.72c-.78.78-.78 2.05 0 2.83L4 21.41c.39.39.9.59 1.41.59.51 0 1.02-.2 1.41-.59l7.78-7.78 2.81-2.81c.8-.78.8-2.07 0-2.86zM5.41 20L4 18.59l7.72-7.72 1.47 1.35L5.41 20z\"/>\n",
              "  </svg>\n",
              "      </button>\n",
              "      \n",
              "  <style>\n",
              "    .colab-df-container {\n",
              "      display:flex;\n",
              "      flex-wrap:wrap;\n",
              "      gap: 12px;\n",
              "    }\n",
              "\n",
              "    .colab-df-convert {\n",
              "      background-color: #E8F0FE;\n",
              "      border: none;\n",
              "      border-radius: 50%;\n",
              "      cursor: pointer;\n",
              "      display: none;\n",
              "      fill: #1967D2;\n",
              "      height: 32px;\n",
              "      padding: 0 0 0 0;\n",
              "      width: 32px;\n",
              "    }\n",
              "\n",
              "    .colab-df-convert:hover {\n",
              "      background-color: #E2EBFA;\n",
              "      box-shadow: 0px 1px 2px rgba(60, 64, 67, 0.3), 0px 1px 3px 1px rgba(60, 64, 67, 0.15);\n",
              "      fill: #174EA6;\n",
              "    }\n",
              "\n",
              "    [theme=dark] .colab-df-convert {\n",
              "      background-color: #3B4455;\n",
              "      fill: #D2E3FC;\n",
              "    }\n",
              "\n",
              "    [theme=dark] .colab-df-convert:hover {\n",
              "      background-color: #434B5C;\n",
              "      box-shadow: 0px 1px 3px 1px rgba(0, 0, 0, 0.15);\n",
              "      filter: drop-shadow(0px 1px 2px rgba(0, 0, 0, 0.3));\n",
              "      fill: #FFFFFF;\n",
              "    }\n",
              "  </style>\n",
              "\n",
              "      <script>\n",
              "        const buttonEl =\n",
              "          document.querySelector('#df-e9e1698e-6008-4629-ac96-2a131168470f button.colab-df-convert');\n",
              "        buttonEl.style.display =\n",
              "          google.colab.kernel.accessAllowed ? 'block' : 'none';\n",
              "\n",
              "        async function convertToInteractive(key) {\n",
              "          const element = document.querySelector('#df-e9e1698e-6008-4629-ac96-2a131168470f');\n",
              "          const dataTable =\n",
              "            await google.colab.kernel.invokeFunction('convertToInteractive',\n",
              "                                                     [key], {});\n",
              "          if (!dataTable) return;\n",
              "\n",
              "          const docLinkHtml = 'Like what you see? Visit the ' +\n",
              "            '<a target=\"_blank\" href=https://colab.research.google.com/notebooks/data_table.ipynb>data table notebook</a>'\n",
              "            + ' to learn more about interactive tables.';\n",
              "          element.innerHTML = '';\n",
              "          dataTable['output_type'] = 'display_data';\n",
              "          await google.colab.output.renderOutput(dataTable, element);\n",
              "          const docLink = document.createElement('div');\n",
              "          docLink.innerHTML = docLinkHtml;\n",
              "          element.appendChild(docLink);\n",
              "        }\n",
              "      </script>\n",
              "    </div>\n",
              "  </div>\n",
              "  "
            ]
          },
          "metadata": {}
        }
      ]
    },
    {
      "cell_type": "code",
      "source": [
        "# the criterion is an expected cost value obtained by operating the cost with the probability.\n",
        "criterion = np.matmul(probab,np.transpose(costs));\n",
        "print(criterion);"
      ],
      "metadata": {
        "colab": {
          "base_uri": "https://localhost:8080/"
        },
        "id": "5WL56sgQTNhz",
        "outputId": "808da43d-2506-4434-ec3d-b3db47f73fe4"
      },
      "execution_count": null,
      "outputs": [
        {
          "output_type": "stream",
          "name": "stdout",
          "text": [
            "[[  -9.   -17.9  -26.7  -35.4  -44.   -52.5  -60.9  -69.2  -77.4  -85.5\n",
            "   -93.5 -101.4 -109.2 -116.9 -124.5 -132.  -139.4 -146.7 -153.9 -161.\n",
            "  -168.  -174.9 -181.7 -188.4 -195.  -201.5 -207.9 -214.2 -220.4 -226.5\n",
            "  -232.5 -238.4 -244.2 -249.9 -255.5 -261.  -266.4 -271.7 -276.9 -282.\n",
            "  -287.  -291.9 -296.7 -301.4 -306.  -310.5 -314.9 -319.2 -323.4 -327.5\n",
            "  -331.5 -335.4 -339.2 -342.9 -346.5 -350.  -353.4 -356.7 -359.9 -363.\n",
            "  -366.  -368.9 -371.7 -374.4 -377.  -379.5 -381.9 -384.2 -386.4 -388.5\n",
            "  -390.5 -392.4 -394.2 -395.9 -397.5 -399.  -400.4 -401.7 -402.9 -404.\n",
            "  -405.  -405.9 -406.7 -407.4 -408.  -408.5 -408.9 -409.2 -409.4 -409.5\n",
            "  -409.5 -409.4 -409.2 -408.9 -408.5 -408.  -407.4 -406.7 -405.9 -405.\n",
            "  -404. ]]\n"
          ]
        }
      ]
    },
    {
      "cell_type": "code",
      "source": [
        "# Min value u^{\\star}\n",
        "min = np.amin(criterion);\n",
        "u_star = np.where(criterion == min)[1]\n",
        "print(\"The minimum value is:\")\n",
        "print(min)\n",
        "print(\"At the optimal point:\")\n",
        "print(control[0][u_star])"
      ],
      "metadata": {
        "colab": {
          "base_uri": "https://localhost:8080/"
        },
        "id": "sxzRo4uYTOiO",
        "outputId": "4bda2e1f-6315-448b-df26-52294fad02de"
      },
      "execution_count": null,
      "outputs": [
        {
          "output_type": "stream",
          "name": "stdout",
          "text": [
            "The minimum value is:\n",
            "-409.5\n",
            "At the optimal point:\n",
            "[91.]\n"
          ]
        }
      ]
    },
    {
      "cell_type": "code",
      "source": [
        "# Plot u , J(u)\n",
        "plt.plot(control[0],criterion[0]);\n",
        "plt.plot(control[0][u_star],min,marker=\"o\", markersize=5, markeredgecolor=\"red\", markerfacecolor=\"red\");\n",
        "plt.xlabel(\"u\")\n",
        "plt.ylabel(\"J(u)\")\n",
        "plt.title(\"Objetive function and optimal point\")\n",
        "plt.show();"
      ],
      "metadata": {
        "colab": {
          "base_uri": "https://localhost:8080/",
          "height": 295
        },
        "id": "KNCHJI8nTU2M",
        "outputId": "517a574b-145b-4acb-bcf7-473069446d55"
      },
      "execution_count": null,
      "outputs": [
        {
          "output_type": "display_data",
          "data": {
            "text/plain": [
              "<Figure size 432x288 with 1 Axes>"
            ],
            "image/png": "[encoded data removed]"
          },
          "metadata": {
            "needs_background": "light"
          }
        }
      ]
    },
    {
      "cell_type": "markdown",
      "source": [
        "# Let´s continue with the lesson"
      ],
      "metadata": {
        "id": "7p0BJo4kw4o-"
      }
    },
    {
      "cell_type": "code",
      "source": [
        "# Histogram of the demand\n",
        "plt.scatter(demand,probab);\n",
        "plt.title(\"Histogram of the demand\");\n",
        "plt.xlabel(\"demand\")\n",
        "plt.ylabel(\"probab\")\n",
        "plt.show()"
      ],
      "metadata": {
        "colab": {
          "base_uri": "https://localhost:8080/",
          "height": 295
        },
        "id": "2_mLaSbcNO3C",
        "outputId": "a08fab4e-0e56-4765-e820-f31ac5d04e34"
      },
      "execution_count": null,
      "outputs": [
        {
          "output_type": "display_data",
          "data": {
            "text/plain": [
              "<Figure size 432x288 with 1 Axes>"
            ],
            "image/png": "[encoded data removed]"
          },
          "metadata": {
            "needs_background": "light"
          }
        }
      ]
    },
    {
      "cell_type": "code",
      "source": [
        "# Criterion / expected costs\n",
        "criterion = np.matmul(probab,np.transpose(costs));\n",
        "plt.scatter(control,criterion)\n",
        "plt.title(\"The expected costs as function of the decision\")\n",
        "plt.xlabel(\"control\")\n",
        "plt.ylabel(\"criterion\")\n",
        "plt.show()"
      ],
      "metadata": {
        "colab": {
          "base_uri": "https://localhost:8080/",
          "height": 295
        },
        "id": "w-cqkZvENSzU",
        "outputId": "b6fcdf1d-7426-464a-8f45-8e7951bb2839"
      },
      "execution_count": null,
      "outputs": [
        {
          "output_type": "display_data",
          "data": {
            "text/plain": [
              "<Figure size 432x288 with 1 Axes>"
            ],
            "image/png": "[encoded data removed]"
          },
          "metadata": {
            "needs_background": "light"
          }
        }
      ]
    },
    {
      "cell_type": "code",
      "source": [
        "# Optimal decision \n",
        "min = np.amin(criterion);\n",
        "u_star = np.where(criterion == min)[1]\n",
        "optcont = np.where(criterion == np.min(criterion))[1]\n",
        "print(\"The optimal decision is: \" + str(optcont))"
      ],
      "metadata": {
        "colab": {
          "base_uri": "https://localhost:8080/"
        },
        "id": "HPksfadJNWQR",
        "outputId": "52fcb1e9-a09b-404c-a0cb-e51eb04a9b7a"
      },
      "execution_count": null,
      "outputs": [
        {
          "output_type": "stream",
          "name": "stdout",
          "text": [
            "The optimal decision is: [90]\n"
          ]
        }
      ]
    },
    {
      "cell_type": "code",
      "source": [
        "# Naive deterministic solution\n",
        "meandemand = np.matmul(probab,np.transpose(demand));\n",
        "print(\"The expected demand is \"+str(np.ceil(meandemand)))"
      ],
      "metadata": {
        "colab": {
          "base_uri": "https://localhost:8080/"
        },
        "id": "THcNxr4ONcj2",
        "outputId": "6dd0fa0f-e6de-46de-885f-bc4753542422"
      },
      "execution_count": null,
      "outputs": [
        {
          "output_type": "stream",
          "name": "stdout",
          "text": [
            "The expected demand is [[51.]]\n"
          ]
        }
      ]
    },
    {
      "cell_type": "code",
      "source": [
        "# Check that the optimal decision satisfies the optimality condition \n",
        "cumprobab = np.cumsum(probab);\n",
        "decumprobab = 1-cumprobab;\n",
        "\n",
        "plt.figure()\n",
        "plt.step(np.transpose(demand),decumprobab)\n",
        "plt.scatter(demand,cc/pp*ones_demand,color = 'red');\n",
        "plt.title(\"The decumulative distribution of the demand\")\n",
        "plt.show;\n",
        "\n",
        "print(\"Is it true that \"+str(cc/pp)+\" lies between \"+str(decumprobab[optcont])+\" and \"+str(decumprobab[optcont-1])+\"?\")"
      ],
      "metadata": {
        "colab": {
          "base_uri": "https://localhost:8080/",
          "height": 298
        },
        "id": "2a0zBu3PNfl-",
        "outputId": "4b5ba5b2-1453-45a3-ab76-b555257e6be3"
      },
      "execution_count": null,
      "outputs": [
        {
          "output_type": "stream",
          "name": "stdout",
          "text": [
            "Is it true that 0.1 lies between [0.09] and [0.1]?\n"
          ]
        },
        {
          "output_type": "display_data",
          "data": {
            "text/plain": [
              "<Figure size 432x288 with 1 Axes>"
            ],
            "image/png": "[encoded data removed]"
          },
          "metadata": {
            "needs_background": "light"
          }
        }
      ]
    },
    {
      "cell_type": "code",
      "source": [
        "# simulated demands \n",
        "\n",
        "NS=365;\n",
        "time = np.zeros((1,NS));\n",
        "for i in range(NS):\n",
        "    time[0][i] = i+1;\n",
        "\n",
        "# There is no function similirar to this in python\n",
        "#DD = grand(NS,'markov',np.matmul(np.transpose(ones_demand),probab),1);\n",
        "\n",
        "DD = np.round(np.random.rand(1,NS)*(100-1))\n",
        "aux1 = np.zeros((1,NS))\n",
        "for i in range(NS):\n",
        "  aux1[0][i] = costs[int(np.round(meandemand)[0])][int(DD[0][i])]\n",
        "aux2 = np.zeros((1,NS))\n",
        "for i in range(NS):\n",
        "  aux2[0][i] = costs[int(optcont[0])][int(DD[0][i])]\n",
        "\n",
        "plt.figure()\n",
        "plt.step(time[0],np.cumsum(-aux1[0]),label='naive deterministic solution');\n",
        "plt.step(time[0],np.cumsum(-aux2[0]),label='optimal solution')\n",
        "plt.title(\"The cumulated payoffs as function of the number of days\")\n",
        "plt.xlabel(\"time\")\n",
        "plt.ylabel(\"payoff\")\n",
        "plt.legend()\n",
        "plt.show()"
      ],
      "metadata": {
        "colab": {
          "base_uri": "https://localhost:8080/",
          "height": 295
        },
        "id": "ahktV-1gNkM7",
        "outputId": "518cb448-97e4-4e70-9032-0b6f7440f97e"
      },
      "execution_count": null,
      "outputs": [
        {
          "output_type": "display_data",
          "data": {
            "text/plain": [
              "<Figure size 432x288 with 1 Axes>"
            ],
            "image/png": "[encoded data removed]"
          },
          "metadata": {
            "needs_background": "light"
          }
        }
      ]
    },
    {
      "cell_type": "markdown",
      "source": [
        "The behavior of the simulation is very similar to a straight line thanks to the law of large numbers and applying the theorem seen in class with the following conditions:\n",
        "\n",
        "$$X_{i} = -j(u,W_i)$$\n",
        "\n",
        "Then:\n",
        "\n",
        "$$\\sum_{i=1}^{n}-j(u,W_{i}) \\approx n \\mathbb{E}[-j(u,W_{1})]$$"
      ],
      "metadata": {
        "id": "4j2GZXTm5dPY"
      }
    },
    {
      "cell_type": "code",
      "source": [
        "uu1 = optcont[0]\n",
        "ss1 = 5\n",
        "\n",
        "aux3 = np.zeros((1,uu1-1))\n",
        "for i in range(uu1-1):\n",
        "  aux3[0][i] = wflat+(i*1)\n",
        "\n",
        "aux4 = np.zeros((1,uu1+1))\n",
        "for i in range(uu1-1):\n",
        "  aux4[0][i] = costs[uu1][int(aux3[0][i])]\n",
        "\n",
        "aux4[0][-1] = costs[uu1][uu1]\n",
        "\n",
        "aux5 = probab[0][0:uu1+1]\n",
        "aux5[-1] = decumprobab[uu1-1]\n",
        "\n",
        "point1 = [np.min(costs), 0]\n",
        "point2 = [np.max(costs), 0]\n",
        "x_values1 = [point1[0], point2[0]]\n",
        "y_values2 = [point1[1], point2[1]]\n",
        "\n",
        "uu2 = np.ceil(meandemand).astype(int)[0][0] - 1 \n",
        "ss2 = 3\n",
        "\n",
        "aux6 = np.zeros((1,uu2-1))\n",
        "for i in range(uu2-1):\n",
        "  aux6[0][i] = wflat+(i*1)\n",
        "\n",
        "aux7 = np.zeros((1,uu2+1))\n",
        "for i in range(uu2-1):\n",
        "  aux7[0][i] = costs[uu2][int(aux6[0][i])]\n",
        "\n",
        "aux7[0][-1] = costs[uu2][uu2]\n",
        "\n",
        "aux8 = probab[0][0:uu2+1]\n",
        "aux8[-1] = decumprobab[uu2-1]\n",
        "\n",
        "plt.figure()\n",
        "plt.scatter(aux4[0],aux5,color = 'red',label = 'Optimal solution')\n",
        "plt.scatter(aux7[0],aux8,color = 'blue',label= 'Naive deterministic solution')\n",
        "plt.axis([np.min(costs), np.max(costs),0, 1])\n",
        "plt.legend()\n",
        "plt.title('Histograms of the costs')\n",
        "plt.show()\n"
      ],
      "metadata": {
        "colab": {
          "base_uri": "https://localhost:8080/",
          "height": 281
        },
        "id": "0GVnZKR5wxoy",
        "outputId": "8f7c8ddc-2985-4110-e603-ecceccd2235d"
      },
      "execution_count": null,
      "outputs": [
        {
          "output_type": "display_data",
          "data": {
            "text/plain": [
              "<Figure size 432x288 with 1 Axes>"
            ],
            "image/png": "[encoded data removed]"
          },
          "metadata": {
            "needs_background": "light"
          }
        }
      ]
    },
    {
      "cell_type": "markdown",
      "source": [
        "#1.2 The demand distribution is a mixture of two truncated Poisson distributions\n",
        "Second, we suppose that the demand distribution $ℙ_{W}$ is a mixture of two truncated Poisson distributions as follows:\n",
        "\n",
        "$$ℙ_{W}(w)=ℙ(W=w)=\\frac{1}{2}k^{♭}\\frac{(\\lambda^{♭})^{w}}{w!}+\\frac{1}{2}k^{♯}\\frac{(\\lambda^{♯})^{w}}{w!}$$"
      ],
      "metadata": {
        "id": "WQ_jChbDGNVq"
      }
    },
    {
      "cell_type": "markdown",
      "source": [
        "#Question 2\n",
        "\n",
        "- [6] When the demand W follows a mixture of two truncated Poisson distributions."
      ],
      "metadata": {
        "id": "AN0Czyx6HoMM"
      }
    },
    {
      "cell_type": "markdown",
      "source": [
        "# Solutions:"
      ],
      "metadata": {
        "id": "7ORCJLKfju65"
      }
    },
    {
      "cell_type": "markdown",
      "source": [
        "#Exercise [6]"
      ],
      "metadata": {
        "id": "WEJC6stej0rx"
      }
    },
    {
      "cell_type": "markdown",
      "source": [
        "# Poisson distribution"
      ],
      "metadata": {
        "id": "rxKYO7hFkCYh"
      }
    },
    {
      "cell_type": "code",
      "source": [
        "import math\n",
        "\n",
        "# Poisson\n",
        "lambdaflat = wsharp/4\n",
        "lambdasharp = (3*wsharp)/4\n",
        "\n",
        "probabflat = np.zeros((1,wsharp))\n",
        "for i in range(wsharp):\n",
        "  probabflat[0][i] = (lambdaflat**demand[0][i])/math.factorial(demand[0][i])\n",
        "probabflat = probabflat/np.sum(probabflat)\n",
        "\n",
        "probabsharp = np.zeros((1,wsharp))\n",
        "for i in range(wsharp):\n",
        "  probabsharp[0][i] = (lambdasharp**demand[0][i])/math.factorial(demand[0][i])\n",
        "probabflat = probabsharp/np.sum(probabsharp)\n",
        "\n",
        "probab = 0.5*probabflat+0.5*probabsharp\n",
        "probab = probab/np.sum(probab)\n",
        "\n",
        "print(np.sum(probab))"
      ],
      "metadata": {
        "id": "j3SamoQJH2hK",
        "colab": {
          "base_uri": "https://localhost:8080/"
        },
        "outputId": "d2b3063a-e988-49fa-f873-29148d59ab2c"
      },
      "execution_count": null,
      "outputs": [
        {
          "output_type": "stream",
          "name": "stdout",
          "text": [
            "1.0\n"
          ]
        }
      ]
    },
    {
      "cell_type": "code",
      "source": [
        "criterion = np.matmul(probab,np.transpose(costs));\n",
        "print(criterion);"
      ],
      "metadata": {
        "colab": {
          "base_uri": "https://localhost:8080/"
        },
        "id": "bv7sxoHDi7h-",
        "outputId": "66c1a5a2-224e-4a55-ef8f-48fd636fb710"
      },
      "execution_count": null,
      "outputs": [
        {
          "output_type": "stream",
          "name": "stdout",
          "text": [
            "[[  -9.          -18.          -27.          -36.          -45.\n",
            "   -54.          -63.          -72.          -81.          -90.\n",
            "   -99.         -108.         -117.         -126.         -135.\n",
            "  -144.         -153.         -162.         -171.         -180.\n",
            "  -189.         -198.         -207.         -216.         -225.\n",
            "  -234.         -243.         -252.         -260.99999999 -269.99999998\n",
            "  -278.99999995 -287.99999988 -296.9999997  -305.99999929 -314.99999837\n",
            "  -323.99999635 -332.99999203 -341.99998306 -350.99996491 -359.99992911\n",
            "  -368.99986022 -377.99973078 -386.99949324 -395.99906712 -404.9983196\n",
            "  -413.99703638 -422.99487974 -431.99132937 -440.98560126 -449.97653991\n",
            "  -458.96247867 -467.94106467 -476.90904571 -485.86201976 -494.79415074\n",
            "  -503.69785937 -512.56350233 -521.37905891 -530.12984861 -538.79830752\n",
            "  -547.36385295 -555.80286542 -564.08881381 -572.19254306 -580.08273427\n",
            "  -587.72653542 -595.09034787 -602.14074013 -608.84544836 -615.17441308\n",
            "  -621.10079547 -626.60191483 -631.66005187 -636.26307008 -640.40481922\n",
            "  -644.08529929 -647.3105796  -650.09248354 -652.44806404 -654.3989071\n",
            "  -655.9703088  -657.19037592 -658.08910043 -658.69745512 -659.04655102\n",
            "  -659.16688919 -659.08772933 -658.8365884  -658.43887271 -657.91763896\n",
            "  -657.29347348 -656.58447417 -655.80631685 -654.97238693 -654.09395759\n",
            "  -653.18039715 -652.23939052 -651.27716262 -650.29869395 -649.30792166\n",
            "  -648.30792166]]\n"
          ]
        }
      ]
    },
    {
      "cell_type": "code",
      "source": [
        "# Min value u^{\\star}\n",
        "min = np.amin(criterion);\n",
        "u_star = np.where(criterion == min)[1]\n",
        "print(\"The minimum value is:\")\n",
        "print(min)\n",
        "print(\"At the optimal point:\")\n",
        "print(control[0][u_star])"
      ],
      "metadata": {
        "colab": {
          "base_uri": "https://localhost:8080/"
        },
        "id": "EgSfc0PljTnK",
        "outputId": "8dd59f37-b8c3-480c-8b6e-e11daa95e82a"
      },
      "execution_count": null,
      "outputs": [
        {
          "output_type": "stream",
          "name": "stdout",
          "text": [
            "The minimum value is:\n",
            "-659.1668891914882\n",
            "At the optimal point:\n",
            "[86.]\n"
          ]
        }
      ]
    },
    {
      "cell_type": "code",
      "source": [
        "# Plot u , J(u)\n",
        "plt.plot(control[0],criterion[0]);\n",
        "plt.plot(control[0][u_star],min,marker=\"o\", markersize=5, markeredgecolor=\"red\", markerfacecolor=\"red\");\n",
        "plt.xlabel(\"u\")\n",
        "plt.ylabel(\"J(u)\")\n",
        "plt.title(\"Objetive function and optimal point\")\n",
        "plt.show();"
      ],
      "metadata": {
        "colab": {
          "base_uri": "https://localhost:8080/",
          "height": 295
        },
        "id": "ndUAaTBpjYrS",
        "outputId": "094a3d42-5469-450f-e997-29f20b0df458"
      },
      "execution_count": null,
      "outputs": [
        {
          "output_type": "display_data",
          "data": {
            "text/plain": [
              "<Figure size 432x288 with 1 Axes>"
            ],
            "image/png": "[encoded data removed]"
          },
          "metadata": {
            "needs_background": "light"
          }
        }
      ]
    },
    {
      "cell_type": "code",
      "source": [
        "# Histogram of the demand\n",
        "plt.scatter(demand,probab);\n",
        "plt.title(\"Histogram of the demand\");\n",
        "plt.xlabel(\"demand\")\n",
        "plt.ylabel(\"probab\")\n",
        "plt.show()"
      ],
      "metadata": {
        "colab": {
          "base_uri": "https://localhost:8080/",
          "height": 295
        },
        "id": "OR2_KpWhjdmc",
        "outputId": "805ba9e1-9318-4a48-86f0-865a12d9b08c"
      },
      "execution_count": null,
      "outputs": [
        {
          "output_type": "display_data",
          "data": {
            "text/plain": [
              "<Figure size 432x288 with 1 Axes>"
            ],
            "image/png": "[encoded data removed]"
          },
          "metadata": {
            "needs_background": "light"
          }
        }
      ]
    },
    {
      "cell_type": "code",
      "source": [
        "# Criterion / expected costs\n",
        "criterion = np.matmul(probab,np.transpose(costs));\n",
        "plt.scatter(control,criterion)\n",
        "plt.title(\"The expected costs as function of the decision\")\n",
        "plt.xlabel(\"control\")\n",
        "plt.ylabel(\"criterion\")\n",
        "plt.show()"
      ],
      "metadata": {
        "colab": {
          "base_uri": "https://localhost:8080/",
          "height": 295
        },
        "id": "oTF87uhsjjpf",
        "outputId": "1b59604c-6532-4338-973b-bc5e32b38198"
      },
      "execution_count": null,
      "outputs": [
        {
          "output_type": "display_data",
          "data": {
            "text/plain": [
              "<Figure size 432x288 with 1 Axes>"
            ],
            "image/png": "[encoded data removed]"
          },
          "metadata": {
            "needs_background": "light"
          }
        }
      ]
    },
    {
      "cell_type": "code",
      "source": [
        "# Optimal decision \n",
        "min = np.amin(criterion);\n",
        "u_star = np.where(criterion == min)[1]\n",
        "optcont = np.where(criterion == np.min(criterion))[1]\n",
        "print(\"The optimal decision is: \" + str(optcont))"
      ],
      "metadata": {
        "colab": {
          "base_uri": "https://localhost:8080/"
        },
        "id": "kQGYfaI_jomS",
        "outputId": "f62c55e6-d7dc-4b86-eacf-b7f38175b063"
      },
      "execution_count": null,
      "outputs": [
        {
          "output_type": "stream",
          "name": "stdout",
          "text": [
            "The optimal decision is: [85]\n"
          ]
        }
      ]
    },
    {
      "cell_type": "code",
      "source": [
        "# Naive deterministic solution\n",
        "meandemand = np.matmul(probab,np.transpose(demand));\n",
        "print(\"The expected demand is \"+str(np.ceil(meandemand)))"
      ],
      "metadata": {
        "colab": {
          "base_uri": "https://localhost:8080/"
        },
        "id": "Dv3Wcp0VjjuZ",
        "outputId": "aed53be9-8eb8-494e-a8e0-e6d2175ab61d"
      },
      "execution_count": null,
      "outputs": [
        {
          "output_type": "stream",
          "name": "stdout",
          "text": [
            "The expected demand is [[75.]]\n"
          ]
        }
      ]
    },
    {
      "cell_type": "code",
      "source": [
        "# Check that the optimal decision satisfies the optimality condition \n",
        "cumprobab = np.cumsum(probab);\n",
        "decumprobab = 1-cumprobab;\n",
        "\n",
        "plt.figure()\n",
        "plt.step(np.transpose(demand),decumprobab)\n",
        "plt.scatter(demand,cc/pp*ones_demand,color = 'red');\n",
        "plt.title(\"The decumulative distribution of the demand\")\n",
        "plt.show;\n",
        "\n",
        "print(\"Is it true that \"+str(cc/pp)+\" lies between \"+str(decumprobab[optcont])+\" and \"+str(decumprobab[optcont-1])+\"?\")"
      ],
      "metadata": {
        "colab": {
          "base_uri": "https://localhost:8080/",
          "height": 298
        },
        "id": "gDyQJIRjj3j4",
        "outputId": "567f696a-4c59-4575-8c50-215f9e428c72"
      },
      "execution_count": null,
      "outputs": [
        {
          "output_type": "stream",
          "name": "stdout",
          "text": [
            "Is it true that 0.1 lies between [0.09208401] and [0.11203382]?\n"
          ]
        },
        {
          "output_type": "display_data",
          "data": {
            "text/plain": [
              "<Figure size 432x288 with 1 Axes>"
            ],
            "image/png": "[encoded data removed]"
          },
          "metadata": {
            "needs_background": "light"
          }
        }
      ]
    },
    {
      "cell_type": "code",
      "source": [
        "aux = np.zeros((1,probab.size))\n",
        "aux[0] = probab\n",
        "probab = aux\n",
        "ones_probab = np.zeros((np.transpose(probab).size,1))\n",
        "for i in range(ones_probab.size):\n",
        "  ones_probab[i] = 1\n",
        "\n",
        "transition_matrix = np.matmul(ones_probab,probab)\n",
        "p_1 = np.zeros((1,probab.size))\n",
        "p_1[0][0] = 1\n",
        "\n",
        "for i in range(1, 100):\n",
        "    p_i = p_1 @ transition_matrix\n",
        "    p_1 = p_i    \n",
        "\n",
        "# simulated demands \n",
        "\n",
        "NS=100;\n",
        "time = np.zeros((1,NS));\n",
        "for i in range(NS):\n",
        "    time[0][i] = i+1;\n",
        "\n",
        "# There is no function similirar to this in python\n",
        "#DD = grand(NS,'markov',np.matmul(np.transpose(ones_demand),probab),1);\n",
        "\n",
        "DD = np.round(p_1*100)\n",
        "aux1 = np.zeros((1,NS))\n",
        "for i in range(NS):\n",
        "  aux1[0][i] = costs[int(np.round(meandemand)[0])][int(DD[0][i])]\n",
        "aux2 = np.zeros((1,NS))\n",
        "for i in range(NS):\n",
        "  aux2[0][i] = costs[int(optcont[0])][int(DD[0][i])]\n",
        "\n",
        "plt.figure()\n",
        "plt.step(time[0],np.cumsum(aux1[0]),label='naive deterministic solution');\n",
        "plt.step(time[0],np.cumsum(aux2[0]),label='optimal solution')\n",
        "plt.title(\"The cumulated payoffs as function of the number of days\")\n",
        "plt.xlabel(\"time\")\n",
        "plt.ylabel(\"payoff\")\n",
        "plt.legend()\n",
        "plt.show()"
      ],
      "metadata": {
        "colab": {
          "base_uri": "https://localhost:8080/",
          "height": 295
        },
        "id": "8JreM8XJj__5",
        "outputId": "597aaf99-df9a-4851-f38b-49d54335e9de"
      },
      "execution_count": null,
      "outputs": [
        {
          "output_type": "display_data",
          "data": {
            "text/plain": [
              "<Figure size 432x288 with 1 Axes>"
            ],
            "image/png": "[encoded data removed]"
          },
          "metadata": {
            "needs_background": "light"
          }
        }
      ]
    },
    {
      "cell_type": "code",
      "source": [
        "uu1 = optcont[0]\n",
        "ss1 = 5\n",
        "\n",
        "aux3 = np.zeros((1,uu1-1))\n",
        "for i in range(uu1-1):\n",
        "  aux3[0][i] = wflat+(i*1)\n",
        "\n",
        "aux4 = np.zeros((1,uu1+1))\n",
        "for i in range(uu1-1):\n",
        "  aux4[0][i] = costs[uu1][int(aux3[0][i])]\n",
        "\n",
        "aux4[0][-1] = costs[uu1][uu1]\n",
        "\n",
        "aux5 = probab[0][0:uu1+1]\n",
        "aux5[-1] = decumprobab[uu1-1]\n",
        "\n",
        "point1 = [np.min(costs), 0]\n",
        "point2 = [np.max(costs), 0]\n",
        "x_values1 = [point1[0], point2[0]]\n",
        "y_values2 = [point1[1], point2[1]]\n",
        "\n",
        "uu2 = np.ceil(meandemand).astype(int)[0] - 1 \n",
        "ss2 = 3\n",
        "\n",
        "aux6 = np.zeros((1,uu2-1))\n",
        "for i in range(uu2-1):\n",
        "  aux6[0][i] = wflat+(i*1)\n",
        "\n",
        "aux7 = np.zeros((1,uu2+1))\n",
        "for i in range(uu2-1):\n",
        "  aux7[0][i] = costs[uu2][int(aux6[0][i])]\n",
        "\n",
        "aux7[0][-1] = costs[uu2][uu2]\n",
        "\n",
        "aux8 = probab[0][0:uu2+1]\n",
        "aux8[-1] = decumprobab[uu2-1]\n",
        "\n",
        "plt.figure()\n",
        "plt.scatter(aux4[0],aux5,color = 'red',label = 'Optimal solution')\n",
        "plt.scatter(aux7[0],aux8,color = 'blue',label= 'Naive deterministic solution')\n",
        "plt.axis([np.min(costs), np.max(costs),0, 1])\n",
        "plt.legend()\n",
        "plt.title('Histograms of the costs')\n",
        "plt.show()"
      ],
      "metadata": {
        "colab": {
          "base_uri": "https://localhost:8080/",
          "height": 281
        },
        "id": "4HOa_7m45S9O",
        "outputId": "b0132d4c-c2a2-4e54-9f98-2bd5602fb25d"
      },
      "execution_count": null,
      "outputs": [
        {
          "output_type": "display_data",
          "data": {
            "text/plain": [
              "<Figure size 432x288 with 1 Axes>"
            ],
            "image/png": "[encoded data removed]"
          },
          "metadata": {
            "needs_background": "light"
          }
        }
      ]
    },
    {
      "cell_type": "markdown",
      "source": [
        "#1.3 The demand distribution is regular"
      ],
      "metadata": {
        "id": "7lnNwDNXICdS"
      }
    },
    {
      "cell_type": "markdown",
      "source": [
        "#Question 3 \n",
        "\n",
        "- [6] When the demand W follows a triangular distribution over $\\{1, 2,…,w^{♯}\\}$.\n",
        "\n",
        "\n",
        "\n"
      ],
      "metadata": {
        "id": "vMt_B6HSIKa8"
      }
    },
    {
      "cell_type": "markdown",
      "source": [
        "#Solutions:"
      ],
      "metadata": {
        "id": "OMsPug3ZkLkC"
      }
    },
    {
      "cell_type": "markdown",
      "source": [
        "#Exercise [6]"
      ],
      "metadata": {
        "id": "gDl0QNx-kOwx"
      }
    },
    {
      "cell_type": "markdown",
      "source": [
        "# Triangular distribution"
      ],
      "metadata": {
        "id": "MDJHDUOEkTL0"
      }
    },
    {
      "cell_type": "code",
      "source": [
        "# Triangular distribution\n",
        "lambda1 = np.floor(wflat+0.3*(wsharp-wflat));\n",
        "left = np.cumsum(ones_demand[0][wflat:int(lambda1)+1])/np.sum(ones_demand[0][wflat:int(lambda1)+1])\n",
        "right = 1 - np.cumsum(ones_demand[0][int(lambda1):wsharp])/np.sum(ones_demand[0][int(lambda1):wsharp])\n",
        "\n",
        "probab = np.concatenate((left,right), axis=None)\n",
        "probab = probab/np.sum(probab);"
      ],
      "metadata": {
        "id": "7Otq-GRKIVOG"
      },
      "execution_count": null,
      "outputs": []
    },
    {
      "cell_type": "code",
      "source": [
        "criterion = np.matmul(probab,np.transpose(costs));\n",
        "print(criterion);"
      ],
      "metadata": {
        "colab": {
          "base_uri": "https://localhost:8080/"
        },
        "id": "0jslSZ6n1MHz",
        "outputId": "afb9f32b-bc3a-4d10-fc34-9cbedc3021a8"
      },
      "execution_count": null,
      "outputs": [
        {
          "output_type": "stream",
          "name": "stdout",
          "text": [
            "[  -9.          -17.99333333  -26.97333333  -35.93333333  -44.86666667\n",
            "  -53.76666667  -62.62666667  -71.44        -80.2         -88.9\n",
            "  -97.53333333 -106.09333333 -114.57333333 -122.96666667 -131.26666667\n",
            " -139.46666667 -147.56       -155.54       -163.4        -171.13333333\n",
            " -178.73333333 -186.19333333 -193.50666667 -200.66666667 -207.66666667\n",
            " -214.5        -221.16       -227.64       -233.93333333 -240.03333333\n",
            " -245.93333333 -251.63619048 -257.1447619  -262.46190476 -267.59047619\n",
            " -272.53333333 -277.29333333 -281.87333333 -286.27619048 -290.5047619\n",
            " -294.56190476 -298.45047619 -302.17333333 -305.73333333 -309.13333333\n",
            " -312.37619048 -315.4647619  -318.40190476 -321.19047619 -323.83333333\n",
            " -326.33333333 -328.69333333 -330.91619048 -333.0047619  -334.96190476\n",
            " -336.79047619 -338.49333333 -340.07333333 -341.53333333 -342.87619048\n",
            " -344.1047619  -345.22190476 -346.23047619 -347.13333333 -347.93333333\n",
            " -348.63333333 -349.23619048 -349.7447619  -350.16190476 -350.49047619\n",
            " -350.73333333 -350.89333333 -350.97333333 -350.97619048 -350.9047619\n",
            " -350.76190476 -350.55047619 -350.27333333 -349.93333333 -349.53333333\n",
            " -349.07619048 -348.5647619  -348.00190476 -347.39047619 -346.73333333\n",
            " -346.03333333 -345.29333333 -344.51619048 -343.7047619  -342.86190476\n",
            " -341.99047619 -341.09333333 -340.17333333 -339.23333333 -338.27619048\n",
            " -337.3047619  -336.32190476 -335.33047619 -334.33333333 -333.33333333\n",
            " -332.33333333]\n"
          ]
        }
      ]
    },
    {
      "cell_type": "code",
      "source": [
        "# Min value u^{\\star}\n",
        "min = np.amin(criterion);\n",
        "u_star = np.where(criterion == min)\n",
        "print(\"The minimum value is:\")\n",
        "print(min)\n",
        "print(\"At the optimal point:\")\n",
        "print(control[0][u_star])"
      ],
      "metadata": {
        "colab": {
          "base_uri": "https://localhost:8080/"
        },
        "id": "yvMNZvbl4Exe",
        "outputId": "29871fc2-5af4-42f5-c1a4-fd1615105b9f"
      },
      "execution_count": null,
      "outputs": [
        {
          "output_type": "stream",
          "name": "stdout",
          "text": [
            "The minimum value is:\n",
            "-350.97619047619037\n",
            "At the optimal point:\n",
            "[74.]\n"
          ]
        }
      ]
    },
    {
      "cell_type": "code",
      "source": [
        "# Plot u , J(u)\n",
        "plt.plot(control[0],criterion);\n",
        "plt.plot(control[0][u_star],min,marker=\"o\", markersize=5, markeredgecolor=\"red\", markerfacecolor=\"red\");\n",
        "plt.xlabel(\"u\")\n",
        "plt.ylabel(\"J(u)\")\n",
        "plt.title(\"Objetive function and optimal point\")\n",
        "plt.show();"
      ],
      "metadata": {
        "colab": {
          "base_uri": "https://localhost:8080/",
          "height": 295
        },
        "id": "-xxOPdYs4PV4",
        "outputId": "152c88f2-1576-48f5-a325-e239bd6d71a1"
      },
      "execution_count": null,
      "outputs": [
        {
          "output_type": "display_data",
          "data": {
            "text/plain": [
              "<Figure size 432x288 with 1 Axes>"
            ],
            "image/png": "[encoded data removed]"
          },
          "metadata": {
            "needs_background": "light"
          }
        }
      ]
    },
    {
      "cell_type": "code",
      "source": [
        "# Histogram of the demand\n",
        "plt.scatter(demand,probab);\n",
        "plt.title(\"Histogram of the demand\");\n",
        "plt.xlabel(\"demand\")\n",
        "plt.ylabel(\"probab\")\n",
        "plt.show()"
      ],
      "metadata": {
        "colab": {
          "base_uri": "https://localhost:8080/",
          "height": 295
        },
        "id": "FrG-TDDQ4gcA",
        "outputId": "de0a0ede-ead4-4d3b-8868-52898d0ff963"
      },
      "execution_count": null,
      "outputs": [
        {
          "output_type": "display_data",
          "data": {
            "text/plain": [
              "<Figure size 432x288 with 1 Axes>"
            ],
            "image/png": "[encoded data removed]"
          },
          "metadata": {
            "needs_background": "light"
          }
        }
      ]
    },
    {
      "cell_type": "code",
      "source": [
        "# Criterion / expected costs\n",
        "criterion = np.matmul(probab,np.transpose(costs));\n",
        "plt.scatter(control,criterion)\n",
        "plt.title(\"The expected costs as function of the decision\")\n",
        "plt.xlabel(\"control\")\n",
        "plt.ylabel(\"criterion\")\n",
        "plt.show()"
      ],
      "metadata": {
        "colab": {
          "base_uri": "https://localhost:8080/",
          "height": 295
        },
        "id": "03ZkqMz_4rRO",
        "outputId": "c141a294-ca9d-4ca3-a60d-dfb1a6114920"
      },
      "execution_count": null,
      "outputs": [
        {
          "output_type": "display_data",
          "data": {
            "text/plain": [
              "<Figure size 432x288 with 1 Axes>"
            ],
            "image/png": "[encoded data removed]"
          },
          "metadata": {
            "needs_background": "light"
          }
        }
      ]
    },
    {
      "cell_type": "code",
      "source": [
        "# Optimal decision \n",
        "min = np.amin(criterion);\n",
        "u_star = np.where(criterion == min)\n",
        "optcont = np.where(criterion == np.min(criterion))[0]\n",
        "print(\"The optimal decision is: \" + str(optcont))"
      ],
      "metadata": {
        "colab": {
          "base_uri": "https://localhost:8080/"
        },
        "id": "Z61q8MZe4vOH",
        "outputId": "b263d1c9-22d2-4947-ae24-3e145a8cd39b"
      },
      "execution_count": null,
      "outputs": [
        {
          "output_type": "stream",
          "name": "stdout",
          "text": [
            "The optimal decision is: [73]\n"
          ]
        }
      ]
    },
    {
      "cell_type": "code",
      "source": [
        "# Naive deterministic solution\n",
        "meandemand = np.matmul(probab,np.transpose(demand));\n",
        "print(\"The expected demand is \"+str(np.ceil(meandemand)))"
      ],
      "metadata": {
        "colab": {
          "base_uri": "https://localhost:8080/"
        },
        "id": "HV9u5H4V424P",
        "outputId": "1a20b0d1-4408-42bb-9279-f4d2e52515a9"
      },
      "execution_count": null,
      "outputs": [
        {
          "output_type": "stream",
          "name": "stdout",
          "text": [
            "The expected demand is [44.]\n"
          ]
        }
      ]
    },
    {
      "cell_type": "code",
      "source": [
        "# Check that the optimal decision satisfies the optimality condition \n",
        "cumprobab = np.cumsum(probab);\n",
        "decumprobab = 1-cumprobab;\n",
        "\n",
        "plt.figure()\n",
        "plt.step(np.transpose(demand),decumprobab)\n",
        "plt.scatter(demand,cc/pp*ones_demand,color = 'red');\n",
        "plt.title(\"The decumulative distribution of the demand\")\n",
        "plt.show;\n",
        "\n",
        "print(\"Is it true that \"+str(cc/pp)+\" lies between \"+str(decumprobab[optcont])+\" and \"+str(decumprobab[optcont-1])+\"?\")"
      ],
      "metadata": {
        "colab": {
          "base_uri": "https://localhost:8080/",
          "height": 298
        },
        "id": "P3hXXXAI47S2",
        "outputId": "00c22aef-ee37-4a21-8589-c810ebc1797a"
      },
      "execution_count": null,
      "outputs": [
        {
          "output_type": "stream",
          "name": "stdout",
          "text": [
            "Is it true that 0.1 lies between [0.09285714] and [0.10028571]?\n"
          ]
        },
        {
          "output_type": "display_data",
          "data": {
            "text/plain": [
              "<Figure size 432x288 with 1 Axes>"
            ],
            "image/png": "[encoded data removed]"
          },
          "metadata": {
            "needs_background": "light"
          }
        }
      ]
    },
    {
      "cell_type": "code",
      "source": [
        "aux = np.zeros((1,probab.size))\n",
        "aux[0] = probab\n",
        "probab = aux\n",
        "ones_probab = np.zeros((np.transpose(probab).size,1))\n",
        "for i in range(ones_probab.size):\n",
        "  ones_probab[i] = 1\n",
        "\n",
        "transition_matrix = np.matmul(ones_probab,probab)\n",
        "p_1 = np.zeros((1,probab.size))\n",
        "p_1[0][0] = 1\n",
        "\n",
        "for i in range(1, 100):\n",
        "    p_i = p_1 @ transition_matrix\n",
        "    p_1 = p_i    \n",
        "\n",
        "# simulated demands \n",
        "\n",
        "NS=100;\n",
        "time = np.zeros((1,NS));\n",
        "for i in range(NS):\n",
        "    time[0][i] = i+1;\n",
        "\n",
        "# There is no function similirar to this in python\n",
        "#DD = grand(NS,'markov',np.matmul(np.transpose(ones_demand),probab),1);\n",
        "\n",
        "DD = np.round(p_1*100)\n",
        "aux1 = np.zeros((1,NS))\n",
        "for i in range(NS):\n",
        "  aux1[0][i] = costs[int(np.round(meandemand)[0])][int(DD[0][i])]\n",
        "aux2 = np.zeros((1,NS))\n",
        "for i in range(NS):\n",
        "  aux2[0][i] = costs[int(optcont[0])][int(DD[0][i])]\n",
        "\n",
        "plt.figure()\n",
        "plt.step(time[0],np.cumsum(aux1[0]),label='naive deterministic solution');\n",
        "plt.step(time[0],np.cumsum(aux2[0]),label='optimal solution')\n",
        "plt.title(\"The cumulated payoffs as function of the number of days\")\n",
        "plt.xlabel(\"time\")\n",
        "plt.ylabel(\"payoff\")\n",
        "plt.legend()\n",
        "plt.show()"
      ],
      "metadata": {
        "colab": {
          "base_uri": "https://localhost:8080/",
          "height": 295
        },
        "id": "PxgdYC8G5BT-",
        "outputId": "4f2d7775-8b75-4213-a962-dc59b47a8125"
      },
      "execution_count": null,
      "outputs": [
        {
          "output_type": "display_data",
          "data": {
            "text/plain": [
              "<Figure size 432x288 with 1 Axes>"
            ],
            "image/png": "[encoded data removed]"
          },
          "metadata": {
            "needs_background": "light"
          }
        }
      ]
    },
    {
      "cell_type": "code",
      "source": [
        "uu1 = optcont[0]\n",
        "ss1 = 5\n",
        "\n",
        "aux3 = np.zeros((1,uu1-1))\n",
        "for i in range(uu1-1):\n",
        "  aux3[0][i] = wflat+(i*1)\n",
        "\n",
        "aux4 = np.zeros((1,uu1+1))\n",
        "for i in range(uu1-1):\n",
        "  aux4[0][i] = costs[uu1][int(aux3[0][i])]\n",
        "\n",
        "aux4[0][-1] = costs[uu1][uu1]\n",
        "\n",
        "aux5 = probab[0][0:uu1+1]\n",
        "aux5[-1] = decumprobab[uu1-1]\n",
        "\n",
        "point1 = [np.min(costs), 0]\n",
        "point2 = [np.max(costs), 0]\n",
        "x_values1 = [point1[0], point2[0]]\n",
        "y_values2 = [point1[1], point2[1]]\n",
        "\n",
        "uu2 = np.ceil(meandemand).astype(int)[0] - 1 \n",
        "ss2 = 3\n",
        "\n",
        "aux6 = np.zeros((1,uu2-1))\n",
        "for i in range(uu2-1):\n",
        "  aux6[0][i] = wflat+(i*1)\n",
        "\n",
        "aux7 = np.zeros((1,uu2+1))\n",
        "for i in range(uu2-1):\n",
        "  aux7[0][i] = costs[uu2][int(aux6[0][i])]\n",
        "\n",
        "aux7[0][-1] = costs[uu2][uu2]\n",
        "\n",
        "aux8 = probab[0][0:uu2+1]\n",
        "aux8[-1] = decumprobab[uu2-1]\n",
        "\n",
        "plt.figure()\n",
        "plt.scatter(aux4[0],aux5,color = 'red',label = 'Optimal solution')\n",
        "plt.scatter(aux7[0],aux8,color = 'blue',label= 'Naive deterministic solution')\n",
        "plt.axis([np.min(costs), np.max(costs),0, 1])\n",
        "plt.legend()\n",
        "plt.title('Histograms of the costs')\n",
        "plt.show()\n"
      ],
      "metadata": {
        "colab": {
          "base_uri": "https://localhost:8080/",
          "height": 281
        },
        "id": "Z93dr0Pg5I__",
        "outputId": "09bc339f-db93-41b0-c491-dea5fb1e7064"
      },
      "execution_count": null,
      "outputs": [
        {
          "output_type": "display_data",
          "data": {
            "text/plain": [
              "<Figure size 432x288 with 1 Axes>"
            ],
            "image/png": "[encoded data removed]"
          },
          "metadata": {
            "needs_background": "light"
          }
        }
      ]
    },
    {
      "cell_type": "markdown",
      "source": [
        "#2 The newsvendor problem (continuous formulation)\n",
        "\n",
        "Here, we consider that the decision can take continuous values: $u ∈ [0, u^{♯} ]}.\n",
        "\n",
        "We also adopt new notations. We suppose that the demand $W$ can take a ﬁnite number $S$ of possible values $D_{s}$, where $s$ denotes a scenario in the ﬁnite set $𝕊$ $(S=card(𝕊))$. We denote $π_{s}$ the probability of scenario $s ∈ 𝕊$, with\n",
        "\n",
        "$$\\sum_{s∈𝕊} π_{s} = 1   \\text{ and }    π_{s} > 0, ∀s ∈ 𝕊.$$\n",
        "\n",
        "Notice that we do not consider scenarios with zero probability.\n",
        "\n",
        "We consider the stochastic optimization problem:\n",
        "\n",
        " $$ \\min_{u∈ [0,u^{♯}]} J(u) = 𝔼_{ℙ}[j(u, W )] \\text{ (5) }$$\n",
        "We now show how to rewrite this problem as a linear program. First, we write:\n",
        "\n",
        "$$j(u,w) = cu - p \\min\\{u,w\\}$$\n",
        "$$= \\max\\{cu-pu,cu-pw\\}$$\n",
        "$$=\\min_{v\\in \\mathbb{R}}\\{v| v\\geq cu-pu,v\\geq cu-pw\\}$$\n",
        "\n",
        "\n",
        "Second, we deduce:\n",
        "\n",
        "$$J(u)=𝔼_{ℙ}[j(u, W )]$$\n",
        "$$= \\sum_{s∈𝕊} π_{s}j(u,D_{s})$$\n",
        "$$= \\sum_{s∈𝕊} π_{s} \\min_{v\\in \\mathbb{R}}\\{v| v\\geq cu-pu,v\\geq cu-pw\\}$$\n",
        "$$= \\min_{(v_{s})_{s\\in \\mathbb{S}}\\in \\mathbb{R}} \\sum_{s∈𝕊} π_{s}v_{s} $$\n",
        "\n",
        "Under the constrains: $v_{s}\\geq cu-pu,v_{s}\\geq cu-pD_{s}$ for all $s\\in \\mathbb{S}$\n",
        "\n",
        "Third, we conclude:\n",
        "\n",
        "$$\\min_{u∈ [0,u^{♯}]} J(u) = \\min_{u∈ [0,u^{♯}],(v_{s})_{s\\in \\mathbb{S}}\\in \\mathbb{R}^{S}} \\sum_{s∈𝕊} π_{s}v_{s} $$\n",
        "\n",
        "This is a linear program."
      ],
      "metadata": {
        "id": "lepu4kosIgc7"
      }
    },
    {
      "cell_type": "markdown",
      "source": [
        "#Question 4 \n",
        "\n",
        "Suppose that W follows a uniform distribution over ${1, 2,…,w^{♯}}$.\n",
        "\n",
        "- [2] Write the linear program (8) in python.\n",
        "- [1] Solve the linear problem and obtain the solution to the stochastic optimization problem (5).\n",
        "- [1] Compare with the optimal solution of Question 1.\n",
        "- [2] Increase the number $w^{♯}$ of values taken by the demand $W$. When can you no longer solve numerically? Compare with the result of Question 1."
      ],
      "metadata": {
        "id": "LRLt7KUujIU3"
      }
    },
    {
      "cell_type": "markdown",
      "source": [
        "#Solutions:"
      ],
      "metadata": {
        "id": "omgawplIlvDg"
      }
    },
    {
      "cell_type": "markdown",
      "source": [
        "#3 The newsvendor problem with risk (continuous formulation)\n",
        "Let $λ ∈(0, 1)$ , that plays the role of a risk level. The Value at Risk of the cost $X$ at level $λ ∈(0, 1)$ is:\n",
        "\n",
        "$$ VaR_{λ}(X ) = \\inf\\{x ∈  ℝ | ℙ (X > x ) < λ\\}$$\n",
        "\n",
        "The tail Value at Risk of the cost $X$ at level $λ ∈(0, 1)$ is:\n",
        "\n",
        "                    \n",
        "$$ TVaR_{λ} (X) = \\frac{1}{1 − λ}\\int_{λ}^{1} VaR_{λ'}(X) dλ'$$\n",
        "                     \n",
        "We have the limit cases:\n",
        "\n",
        "$$ TVaR_{0} = \\mathbb{E}[X] $$\n",
        "$$ TVaR_{1} = \\lim_{\\lambda \\rightarrow 1} TVaR_{\\lambda} [X] = \\sup_{w\\in \\Omega} X(w)  $$\n",
        "\n",
        "The Rockafellar-Uryasev formula establishes that:\n",
        "\n",
        "                 \n",
        "$$T VaR_{λ}[X] = \\inf_{s∈ℝ}  \\{ \\frac{𝔼[(X-s)^{+}]}{1 − λ}+ s \\}  , λ ∈ (0, 1)$$\n",
        "                    \n",
        "We consider the risk averse stochastic optimization problem:\n",
        "\n",
        " $$\\min_{u∈[0,u^{♯}]}  J (u) = T VaR_{λ}[j(u,W  )] \\text{ (9) }$$ \n",
        "\n",
        "We rewrite this problem as a linear program:\n",
        "\n",
        "$$ \\min_{u∈[0,u^{♯}]}  J (u) = \\min_{u∈[0,u^{♯}],r\\in \\mathbb{R},(v_{s})_{s\\in S}\\in \\mathbb{R}^{S} } r + \\frac{1}{1-\\lambda}\\sum_{s\\in S}\\pi_{s}v_{s} \\text{ (10) } $$\n",
        "\n",
        "Under the constrains:\n",
        "\n",
        "$$∀ s∈S, v_{s}\\geq cu-pu , v_{s}\\geq cu-pD_{s}$$"
      ],
      "metadata": {
        "id": "SlBgrhdVNfYV"
      }
    },
    {
      "cell_type": "markdown",
      "source": [
        "#Question 5 \n",
        "\n",
        "Suppose that W follows a uniform distribution over $\\{1, 2,…,w^{♯}\\}$.\n",
        "\n",
        "- [2] Write the linear program (10) in python.\n",
        "\n",
        "- [1] Solve the problem and obtain the solution to the stochastic optimization problem (9).\n",
        "\n",
        "- [1] Compare with the optimal solution of Question 4."
      ],
      "metadata": {
        "id": "2fxuWAdOiFZm"
      }
    },
    {
      "cell_type": "markdown",
      "source": [
        "#Solutions:"
      ],
      "metadata": {
        "id": "fEk-CAhIl8fl"
      }
    },
    {
      "cell_type": "markdown",
      "source": [
        "#4 The newsvendor problem with backorder (continuous formulation)\n",
        "\n",
        "Now, we suppose that the newsvendor:\n",
        "\n",
        "- pays the unitary purchasing cost $c$ per copy, when he orders stock.\n",
        "\n",
        "- sells a copy at price $p$, we have that $c > p$.\n",
        "\n",
        "- can buy extra copies at the unitary backorder cost $b$, after he observes a demand $w$ larger than the initial order $u$; we have that $b > c$ pays the unitary holding cost $h$ for each unsold copy, when the demand $w$ is less than the initial order $u$.\n",
        "\n",
        "Therefore, the newsvendor’s costs are:\n",
        "\n",
        "$$j (u, w) = cu + b[w−u]_{+} + h[u− w]_{+}+ − pw  \\text{ (11) }$$\n",
        "            \n",
        "where we recall that $x_{+} = \\max\\{x,0\\}$."
      ],
      "metadata": {
        "id": "4oNnO5PimoB5"
      }
    },
    {
      "cell_type": "code",
      "source": [
        "cc = 0.1\n",
        "pp = 10*cc\n",
        "bb = 10*cc\n",
        "hh = 10*cc"
      ],
      "metadata": {
        "id": "SuCbl7wfnnhv"
      },
      "execution_count": null,
      "outputs": []
    },
    {
      "cell_type": "markdown",
      "source": [
        "#Question 6 \n",
        "We suppose that the demand W follows a uniform distribution over $\\{1, 2,…,w^{♯}\\}$.\n",
        "\n",
        "- [1] Write a row vector criterion made of the values of $J(u) = 𝔼_{ℙ}[j(u, W )]$   for $u ∈\\{1, 2,…,u^{♯}\\}$.\n",
        "\n",
        "- [1+1] Draw the mapping $u ∈ \\{1, 2,…,u^{♯}\\}↦J(u)$. Thanks to the numpy minimun function (that provides the minimum and the argmin index of a vector), give the numerical value of the decision $u^{⋆}$ (optimal order) that minimizes $u↦J(u)$.\n",
        "\n",
        "- [1] Check that, in agreement with the theory, we numerically have that\n",
        "$$ℙ(W  >  u^{⋆} − 1) ≥ \\frac{c +h}{b + h}≥ ℙ (W   > u^{⋆})$$\n",
        "                  \n",
        "- [1+1] For a given value of $u$, what is the set of values taken by the random variable $j(u, W )$ ? Give a python formula for the probability distribution of $j(u,W)$  , using probab and decumprobab.\n",
        "\n",
        "- [1+1] Draw a histogram of the probability distribution of the random payoﬀ (the opposite of the costs) $−j(u, W )$   for $u = u^{⋆}$ (the optimal decision) and for $u = 𝔼_{ℙ}[W]$ (the naive deterministic solution consisting in ordering the mean demand $𝔼_{ℙ}[W]$). Draw the two histograms on the same picture, so that they have the same scale. Comment on the diﬀerences between the two histograms.\n",
        "\n",
        "- [1+1+1] Simulate the trajectory of the cumulated payoﬀs of the newsvendor during one year if, every day, he orders the optimal quantity $u = u^{⋆}$. Do the same for $u = 𝔼_{ℙ}[W]$. Compare.\n",
        "\n",
        "- [4] Multiply the unitary holding cost $h$ by a factor $5$. Comment on the changes that you observe.\n",
        "\n",
        "- [4] As in Section 2, write the new optimization problem as a linear program. Then, write this latter under the form adapted to python. Solve the problem and compare with the optimal solution found above by the direct method.\n",
        "\n",
        "- [4] Increase the number $w^{♯}$ of values taken by the demand $W$. When can you no longer solve numerically? Compare with the direct method."
      ],
      "metadata": {
        "id": "O13lzQyuySbm"
      }
    },
    {
      "cell_type": "markdown",
      "source": [
        "#Solutions:"
      ],
      "metadata": {
        "id": "Vc24ArnFpL4Y"
      }
    }
  ]
}